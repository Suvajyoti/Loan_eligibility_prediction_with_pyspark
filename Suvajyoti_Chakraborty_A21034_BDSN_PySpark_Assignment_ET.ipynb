{
  "nbformat": 4,
  "nbformat_minor": 0,
  "metadata": {
    "colab": {
      "name": "Suvajyoti_Chakraborty_A21034_BDSN PySpark Assignment ET.ipynb",
      "provenance": [],
      "collapsed_sections": []
    },
    "kernelspec": {
      "name": "python3",
      "display_name": "Python 3"
    },
    "language_info": {
      "name": "python"
    }
  },
  "cells": [
    {
      "cell_type": "markdown",
      "source": [
        "### NAME- Suvajyoti Chakraborty\n",
        "### ID - A21034\n",
        "### BATCH- Kolkata Data Science Batch 2021 "
      ],
      "metadata": {
        "id": "COJ-FS6sT2cu"
      }
    },
    {
      "cell_type": "markdown",
      "source": [
        "# SPARK INSTALLATION"
      ],
      "metadata": {
        "id": "FKY9K6niT91Y"
      }
    },
    {
      "cell_type": "markdown",
      "source": [
        "!apt is a linux programme used to install new software in a machine. First updated the !apt then installed the openjdk-8-jdk-headless ."
      ],
      "metadata": {
        "id": "P_HKBHzWUC7U"
      }
    },
    {
      "cell_type": "code",
      "execution_count": 1,
      "metadata": {
        "colab": {
          "base_uri": "https://localhost:8080/"
        },
        "id": "j1Be0xghQuvr",
        "outputId": "22b58015-98c4-451f-8c46-a9e5322a4f9f"
      },
      "outputs": [
        {
          "output_type": "stream",
          "name": "stdout",
          "text": [
            "\n",
            "WARNING: apt does not have a stable CLI interface. Use with caution in scripts.\n",
            "\n",
            "\n",
            "WARNING: apt does not have a stable CLI interface. Use with caution in scripts.\n",
            "\n"
          ]
        }
      ],
      "source": [
        "!apt update > /dev/null\n",
        "!apt install openjdk-8-jdk-headless -qq > /dev/null"
      ]
    },
    {
      "cell_type": "markdown",
      "source": [
        "Using !wget command first installed the Spark. It will installed as tgz file format which is a linux zip file format. !tar is the unzip programme of linux. Then install pyspark which allows to access spark with the help of python."
      ],
      "metadata": {
        "id": "MX5J3ZX9UJ_X"
      }
    },
    {
      "cell_type": "code",
      "source": [
        "!wget -q http://apache.osuosl.org/spark/spark-3.1.2/spark-3.1.2-bin-hadoop3.2.tgz\n",
        "!tar xf spark-3.1.2-bin-hadoop3.2.tgz\n",
        "!pip install -q pyspark\n",
        "import os\n",
        "os.environ[\"JAVA_HOME\"] = \"/usr/lib/jvm/java-8-openjdk-amd64\"\n",
        "os.environ[\"SPARK_HOME\"] = \"/content/spark-3.1.2-bin-hadoop3.2\""
      ],
      "metadata": {
        "id": "z2oQ9waoU4qW",
        "colab": {
          "base_uri": "https://localhost:8080/"
        },
        "outputId": "fea6d60a-352d-40f5-a0a3-a6073ca5744c"
      },
      "execution_count": 2,
      "outputs": [
        {
          "output_type": "stream",
          "name": "stdout",
          "text": [
            "\u001b[K     |████████████████████████████████| 281.4 MB 37 kB/s \n",
            "\u001b[K     |████████████████████████████████| 198 kB 54.8 MB/s \n",
            "\u001b[?25h  Building wheel for pyspark (setup.py) ... \u001b[?25l\u001b[?25hdone\n"
          ]
        }
      ]
    },
    {
      "cell_type": "code",
      "source": [
        "from pyspark.sql import SparkSession\n",
        "spark = SparkSession.builder.master(\"local[*]\").config('spark.ui.port', '4050').getOrCreate()"
      ],
      "metadata": {
        "id": "DnVfz8iYWYhV"
      },
      "execution_count": 3,
      "outputs": []
    },
    {
      "cell_type": "code",
      "source": [
        "sc = spark.sparkContext"
      ],
      "metadata": {
        "id": "ZSHb9XCxW_yz"
      },
      "execution_count": 4,
      "outputs": []
    },
    {
      "cell_type": "code",
      "source": [
        "sc"
      ],
      "metadata": {
        "colab": {
          "base_uri": "https://localhost:8080/",
          "height": 196
        },
        "id": "kpFGsP8IXC2W",
        "outputId": "b2bda662-8eeb-4d2e-c00a-e23981bbbede"
      },
      "execution_count": 5,
      "outputs": [
        {
          "output_type": "execute_result",
          "data": {
            "text/html": [
              "\n",
              "        <div>\n",
              "            <p><b>SparkContext</b></p>\n",
              "\n",
              "            <p><a href=\"http://7c3d415330cc:4050\">Spark UI</a></p>\n",
              "\n",
              "            <dl>\n",
              "              <dt>Version</dt>\n",
              "                <dd><code>v3.1.2</code></dd>\n",
              "              <dt>Master</dt>\n",
              "                <dd><code>local[*]</code></dd>\n",
              "              <dt>AppName</dt>\n",
              "                <dd><code>pyspark-shell</code></dd>\n",
              "            </dl>\n",
              "        </div>\n",
              "        "
            ],
            "text/plain": [
              "<SparkContext master=local[*] appName=pyspark-shell>"
            ]
          },
          "metadata": {},
          "execution_count": 5
        }
      ]
    },
    {
      "cell_type": "markdown",
      "source": [
        "#DATA LOADING"
      ],
      "metadata": {
        "id": "B5XxZwiPUR8F"
      }
    },
    {
      "cell_type": "markdown",
      "source": [
        "Loading the data using !wget command from my github repository where the dataset is uploaded."
      ],
      "metadata": {
        "id": "0cQETlreiLw3"
      }
    },
    {
      "cell_type": "code",
      "source": [
        "!wget -q https://raw.githubusercontent.com/Suvajyoti/Loan_eligibility_prediction_with_pyspark/main/loan_eligibility_data.csv"
      ],
      "metadata": {
        "id": "rBfjI4PAXE0j"
      },
      "execution_count": 6,
      "outputs": []
    },
    {
      "cell_type": "code",
      "source": [
        "ls"
      ],
      "metadata": {
        "colab": {
          "base_uri": "https://localhost:8080/"
        },
        "id": "3h6Co25RXTsI",
        "outputId": "7dca8f5f-115a-4cb5-b366-35166d24c4c8"
      },
      "execution_count": 7,
      "outputs": [
        {
          "output_type": "stream",
          "name": "stdout",
          "text": [
            "\u001b[0m\u001b[01;34mdrive\u001b[0m/                     \u001b[01;34mspark-3.1.2-bin-hadoop3.2\u001b[0m/\n",
            "loan_eligibility_data.csv  spark-3.1.2-bin-hadoop3.2.tgz\n",
            "\u001b[01;34msample_data\u001b[0m/\n"
          ]
        }
      ]
    },
    {
      "cell_type": "markdown",
      "source": [
        "Reading the CSV file with spark read csv command and stored it into a variable called df."
      ],
      "metadata": {
        "id": "iV637lomis-G"
      }
    },
    {
      "cell_type": "code",
      "source": [
        "df=spark.read.csv('/content/loan_eligibility_data.csv',inferSchema=True,header=True)"
      ],
      "metadata": {
        "id": "EjQ32-VrXYAo"
      },
      "execution_count": 8,
      "outputs": []
    },
    {
      "cell_type": "markdown",
      "source": [
        "Counting the number of rows and columns.There are total 614 rows and 13 columns. "
      ],
      "metadata": {
        "id": "x4Auo4Jni9tb"
      }
    },
    {
      "cell_type": "code",
      "source": [
        "print((df.count(),len(df.columns)))"
      ],
      "metadata": {
        "colab": {
          "base_uri": "https://localhost:8080/"
        },
        "id": "4PNdAznOXexA",
        "outputId": "51543d48-3029-456f-a89b-72b2136a5a95"
      },
      "execution_count": 9,
      "outputs": [
        {
          "output_type": "stream",
          "name": "stdout",
          "text": [
            "(614, 13)\n"
          ]
        }
      ]
    },
    {
      "cell_type": "markdown",
      "source": [
        "Showing the first 5  rows of the loaded data in a spark dataframe. "
      ],
      "metadata": {
        "id": "idZ3bZ2ajRDP"
      }
    },
    {
      "cell_type": "code",
      "source": [
        "df.show(5)"
      ],
      "metadata": {
        "colab": {
          "base_uri": "https://localhost:8080/"
        },
        "id": "jALKO6k-VsHI",
        "outputId": "5573c199-7f92-4114-9fba-f0c4911e8f1e"
      },
      "execution_count": 10,
      "outputs": [
        {
          "output_type": "stream",
          "name": "stdout",
          "text": [
            "+--------+------+-------+----------+------------+-------------+---------------+-----------------+----------+----------------+--------------+-------------+-----------+\n",
            "| Loan_ID|Gender|Married|Dependents|   Education|Self_Employed|ApplicantIncome|CoapplicantIncome|LoanAmount|Loan_Amount_Term|Credit_History|Property_Area|Loan_Status|\n",
            "+--------+------+-------+----------+------------+-------------+---------------+-----------------+----------+----------------+--------------+-------------+-----------+\n",
            "|LP001002|  Male|     No|         0|    Graduate|           No|           5849|              0.0|      null|             360|             1|        Urban|          Y|\n",
            "|LP001003|  Male|    Yes|         1|    Graduate|           No|           4583|           1508.0|       128|             360|             1|        Rural|          N|\n",
            "|LP001005|  Male|    Yes|         0|    Graduate|          Yes|           3000|              0.0|        66|             360|             1|        Urban|          Y|\n",
            "|LP001006|  Male|    Yes|         0|Not Graduate|           No|           2583|           2358.0|       120|             360|             1|        Urban|          Y|\n",
            "|LP001008|  Male|     No|         0|    Graduate|           No|           6000|              0.0|       141|             360|             1|        Urban|          Y|\n",
            "+--------+------+-------+----------+------------+-------------+---------------+-----------------+----------+----------------+--------------+-------------+-----------+\n",
            "only showing top 5 rows\n",
            "\n"
          ]
        }
      ]
    },
    {
      "cell_type": "markdown",
      "source": [
        "Showing the structure of the dataframe also called schema.This command also shows the data types of each of the column.  "
      ],
      "metadata": {
        "id": "SvUyugeJjcUD"
      }
    },
    {
      "cell_type": "code",
      "source": [
        "df.printSchema()"
      ],
      "metadata": {
        "colab": {
          "base_uri": "https://localhost:8080/"
        },
        "id": "lQkkA011YSdU",
        "outputId": "ef88c1d5-b999-4638-9aef-3cc6b15cb305"
      },
      "execution_count": 11,
      "outputs": [
        {
          "output_type": "stream",
          "name": "stdout",
          "text": [
            "root\n",
            " |-- Loan_ID: string (nullable = true)\n",
            " |-- Gender: string (nullable = true)\n",
            " |-- Married: string (nullable = true)\n",
            " |-- Dependents: string (nullable = true)\n",
            " |-- Education: string (nullable = true)\n",
            " |-- Self_Employed: string (nullable = true)\n",
            " |-- ApplicantIncome: integer (nullable = true)\n",
            " |-- CoapplicantIncome: double (nullable = true)\n",
            " |-- LoanAmount: integer (nullable = true)\n",
            " |-- Loan_Amount_Term: integer (nullable = true)\n",
            " |-- Credit_History: integer (nullable = true)\n",
            " |-- Property_Area: string (nullable = true)\n",
            " |-- Loan_Status: string (nullable = true)\n",
            "\n"
          ]
        }
      ]
    },
    {
      "cell_type": "markdown",
      "source": [
        "Describe function gives the five point statistical summary of columns the loaded datset such as count ,mean , standard deviation, minimun range and the maximum range."
      ],
      "metadata": {
        "id": "FjM58w_HlTLv"
      }
    },
    {
      "cell_type": "code",
      "source": [
        "df.describe().show()"
      ],
      "metadata": {
        "colab": {
          "base_uri": "https://localhost:8080/"
        },
        "id": "tC7zmguLdLSC",
        "outputId": "89ab3884-2f38-46b9-fa66-1721414bb770"
      },
      "execution_count": 12,
      "outputs": [
        {
          "output_type": "stream",
          "name": "stdout",
          "text": [
            "+-------+--------+------+-------+------------------+------------+-------------+-----------------+------------------+------------------+-----------------+------------------+-------------+-----------+\n",
            "|summary| Loan_ID|Gender|Married|        Dependents|   Education|Self_Employed|  ApplicantIncome| CoapplicantIncome|        LoanAmount| Loan_Amount_Term|    Credit_History|Property_Area|Loan_Status|\n",
            "+-------+--------+------+-------+------------------+------------+-------------+-----------------+------------------+------------------+-----------------+------------------+-------------+-----------+\n",
            "|  count|     614|   601|    611|               599|         614|          582|              614|               614|               592|              600|               564|          614|        614|\n",
            "|   mean|    null|  null|   null|0.5547445255474452|        null|         null|5403.459283387622| 1621.245798027101|146.41216216216216|            342.0|0.8421985815602837|         null|       null|\n",
            "| stddev|    null|  null|   null|0.7853289861674311|        null|         null|6109.041673387181|2926.2483692241894| 85.58732523570545|65.12040985461255|0.3648783192364052|         null|       null|\n",
            "|    min|LP001002|Female|     No|                 0|    Graduate|           No|              150|               0.0|                 9|               12|                 0|        Rural|          N|\n",
            "|    max|LP002990|  Male|    Yes|                3+|Not Graduate|          Yes|            81000|           41667.0|               700|              480|                 1|        Urban|          Y|\n",
            "+-------+--------+------+-------+------------------+------------+-------------+-----------------+------------------+------------------+-----------------+------------------+-------------+-----------+\n",
            "\n"
          ]
        }
      ]
    },
    {
      "cell_type": "markdown",
      "source": [
        "Loan Id column is not of use as per my own understanding so dropped the column using drop function. * signifies the same in the sql , select all the element of that particularly mentioned column here it is Loan_ID."
      ],
      "metadata": {
        "id": "IbsJ_3vBlsAW"
      }
    },
    {
      "cell_type": "code",
      "source": [
        "df = df.drop(*['Loan_ID'])\n",
        "df.show(5)"
      ],
      "metadata": {
        "colab": {
          "base_uri": "https://localhost:8080/"
        },
        "id": "TMaOmTnsdXMw",
        "outputId": "8eb24b9d-277e-4dc7-a0bc-f092639c38bb"
      },
      "execution_count": 13,
      "outputs": [
        {
          "output_type": "stream",
          "name": "stdout",
          "text": [
            "+------+-------+----------+------------+-------------+---------------+-----------------+----------+----------------+--------------+-------------+-----------+\n",
            "|Gender|Married|Dependents|   Education|Self_Employed|ApplicantIncome|CoapplicantIncome|LoanAmount|Loan_Amount_Term|Credit_History|Property_Area|Loan_Status|\n",
            "+------+-------+----------+------------+-------------+---------------+-----------------+----------+----------------+--------------+-------------+-----------+\n",
            "|  Male|     No|         0|    Graduate|           No|           5849|              0.0|      null|             360|             1|        Urban|          Y|\n",
            "|  Male|    Yes|         1|    Graduate|           No|           4583|           1508.0|       128|             360|             1|        Rural|          N|\n",
            "|  Male|    Yes|         0|    Graduate|          Yes|           3000|              0.0|        66|             360|             1|        Urban|          Y|\n",
            "|  Male|    Yes|         0|Not Graduate|           No|           2583|           2358.0|       120|             360|             1|        Urban|          Y|\n",
            "|  Male|     No|         0|    Graduate|           No|           6000|              0.0|       141|             360|             1|        Urban|          Y|\n",
            "+------+-------+----------+------------+-------------+---------------+-----------------+----------+----------------+--------------+-------------+-----------+\n",
            "only showing top 5 rows\n",
            "\n"
          ]
        }
      ]
    },
    {
      "cell_type": "markdown",
      "source": [
        "#Null Value Imputation"
      ],
      "metadata": {
        "id": "4ogEwO8fgRsZ"
      }
    },
    {
      "cell_type": "markdown",
      "source": [
        "Checking the null values or missing values for each of the column and count the number of null values.\n",
        "\n",
        "Reference Link :https://sparkbyexamples.com/pyspark/pyspark-count-of-non-null-nan-values-in-dataframe/ "
      ],
      "metadata": {
        "id": "JE0UESE0m0Ds"
      }
    },
    {
      "cell_type": "code",
      "source": [
        "from pyspark.sql.functions import col,sum\n",
        "df.select(*(sum(col(c).isNull().cast(\"int\")).alias(c) for c in df.columns)).show()"
      ],
      "metadata": {
        "colab": {
          "base_uri": "https://localhost:8080/"
        },
        "id": "kHSMp7hXd5Kh",
        "outputId": "a148016e-c5d2-42b4-c72d-3e43cedbae7e"
      },
      "execution_count": 14,
      "outputs": [
        {
          "output_type": "stream",
          "name": "stdout",
          "text": [
            "+------+-------+----------+---------+-------------+---------------+-----------------+----------+----------------+--------------+-------------+-----------+\n",
            "|Gender|Married|Dependents|Education|Self_Employed|ApplicantIncome|CoapplicantIncome|LoanAmount|Loan_Amount_Term|Credit_History|Property_Area|Loan_Status|\n",
            "+------+-------+----------+---------+-------------+---------------+-----------------+----------+----------------+--------------+-------------+-----------+\n",
            "|    13|      3|        15|        0|           32|              0|                0|        22|              14|            50|            0|          0|\n",
            "+------+-------+----------+---------+-------------+---------------+-----------------+----------+----------------+--------------+-------------+-----------+\n",
            "\n"
          ]
        }
      ]
    },
    {
      "cell_type": "markdown",
      "source": [
        "There are 22 null/missing values in the Loan Amount column. So, Calculating the average of the Loan Amount column which is 146.41 and replaced it with the null values exists in that column.Again calculated the new average of the column which is 146.39."
      ],
      "metadata": {
        "id": "3tT2LqjGnonE"
      }
    },
    {
      "cell_type": "code",
      "source": [
        "from pyspark.sql.functions import mean\n",
        "mean_val = df.select(mean(df.LoanAmount)).collect()\n",
        "print('Average value', mean_val[0][0])"
      ],
      "metadata": {
        "colab": {
          "base_uri": "https://localhost:8080/"
        },
        "id": "A_T3VwOGgmlm",
        "outputId": "fad36806-bd5b-4e87-af21-eb0ac2d21086"
      },
      "execution_count": 15,
      "outputs": [
        {
          "output_type": "stream",
          "name": "stdout",
          "text": [
            "Average value 146.41216216216216\n"
          ]
        }
      ]
    },
    {
      "cell_type": "code",
      "source": [
        "mean_loan_amount = mean_val[0][0]\n",
        "df = df.na.fill(mean_loan_amount, subset=['LoanAmount'])\n",
        "mean_val = df.select(mean(df.LoanAmount)).collect()\n",
        "print('New Average value', mean_val[0][0])"
      ],
      "metadata": {
        "colab": {
          "base_uri": "https://localhost:8080/"
        },
        "id": "qXGhk0-qgqQ1",
        "outputId": "8e7a2105-5f87-496e-8d5c-46caf9921bcb"
      },
      "execution_count": 16,
      "outputs": [
        {
          "output_type": "stream",
          "name": "stdout",
          "text": [
            "New Average value 146.3973941368078\n"
          ]
        }
      ]
    },
    {
      "cell_type": "markdown",
      "source": [
        "There are 14 null/missing values in Loan amount term column. It is not a continuous variable .As per my understanding it is actually in days so mean cannot be used. So using median for missing value substitution."
      ],
      "metadata": {
        "id": "mnxscvtasK_a"
      }
    },
    {
      "cell_type": "code",
      "source": [
        "median_loan_term = df.approxQuantile(\"Loan_Amount_Term\", [0.5], 0.25)\n",
        "median_loan_term = int(median_loan_term[0])\n",
        "print('Median value', median_loan_term)"
      ],
      "metadata": {
        "colab": {
          "base_uri": "https://localhost:8080/"
        },
        "id": "WlPgELGDhqji",
        "outputId": "eed275cf-053c-4e92-d27b-9720a0f0d56d"
      },
      "execution_count": 17,
      "outputs": [
        {
          "output_type": "stream",
          "name": "stdout",
          "text": [
            "Median value 360\n"
          ]
        }
      ]
    },
    {
      "cell_type": "code",
      "source": [
        "df = df.na.fill(median_loan_term, subset=['Loan_Amount_Term'])"
      ],
      "metadata": {
        "id": "RNzOBGUqiVfO"
      },
      "execution_count": 18,
      "outputs": []
    },
    {
      "cell_type": "markdown",
      "source": [
        "There are 13 null/missing values in Gender column. It is a categorical variable .As per my understanding there is no other gender category except male and female.Male count is much greater than the female count. So using mode for substitution of missing value by male."
      ],
      "metadata": {
        "id": "A2E7i42ht5P_"
      }
    },
    {
      "cell_type": "code",
      "source": [
        "df.groupBy(\"Gender\").count().show()"
      ],
      "metadata": {
        "colab": {
          "base_uri": "https://localhost:8080/"
        },
        "id": "9edl4ZmaiZWP",
        "outputId": "8bc086cd-bfcf-4839-a077-02d87bf0fbb4"
      },
      "execution_count": 19,
      "outputs": [
        {
          "output_type": "stream",
          "name": "stdout",
          "text": [
            "+------+-----+\n",
            "|Gender|count|\n",
            "+------+-----+\n",
            "|  null|   13|\n",
            "|Female|  112|\n",
            "|  Male|  489|\n",
            "+------+-----+\n",
            "\n"
          ]
        }
      ]
    },
    {
      "cell_type": "code",
      "source": [
        "df = df.na.fill('Male',subset=['Gender'])\n",
        "df.groupBy(\"Gender\").count().show()"
      ],
      "metadata": {
        "id": "WlQGwfSPid3C",
        "colab": {
          "base_uri": "https://localhost:8080/"
        },
        "outputId": "ed18d92d-1dad-4554-9175-ba862c67bbd1"
      },
      "execution_count": 20,
      "outputs": [
        {
          "output_type": "stream",
          "name": "stdout",
          "text": [
            "+------+-----+\n",
            "|Gender|count|\n",
            "+------+-----+\n",
            "|Female|  112|\n",
            "|  Male|  502|\n",
            "+------+-----+\n",
            "\n"
          ]
        }
      ]
    },
    {
      "cell_type": "markdown",
      "source": [
        "There are 3 null/missing values in Married column. It is a categorical variable .As per my understanding there is no other category except yes and no. Yes count is much greater than the no count. So using mode for substitution of missing value by yes."
      ],
      "metadata": {
        "id": "0WA7xSt9um7o"
      }
    },
    {
      "cell_type": "code",
      "source": [
        "df.groupBy(\"Married\").count().show()\n",
        "df = df.na.fill('Yes',subset=['Married'])\n",
        "df.groupBy(\"Married\").count().show()"
      ],
      "metadata": {
        "id": "qu9uQps2ihYm",
        "colab": {
          "base_uri": "https://localhost:8080/"
        },
        "outputId": "ccd192e2-23b3-4174-8e75-319bfe001dba"
      },
      "execution_count": 21,
      "outputs": [
        {
          "output_type": "stream",
          "name": "stdout",
          "text": [
            "+-------+-----+\n",
            "|Married|count|\n",
            "+-------+-----+\n",
            "|   null|    3|\n",
            "|     No|  213|\n",
            "|    Yes|  398|\n",
            "+-------+-----+\n",
            "\n",
            "+-------+-----+\n",
            "|Married|count|\n",
            "+-------+-----+\n",
            "|     No|  213|\n",
            "|    Yes|  401|\n",
            "+-------+-----+\n",
            "\n"
          ]
        }
      ]
    },
    {
      "cell_type": "markdown",
      "source": [
        "There are 15 null/missing values in Dependents column. It is a categorical variable .As per my understanding there is no other dependents category except 0,1,2 and 3+.Count of 0 is much greater than the others count. So using mode for substitution of missing value by count 0."
      ],
      "metadata": {
        "id": "Pj58crbJu0pc"
      }
    },
    {
      "cell_type": "code",
      "source": [
        "df.groupBy(\"Dependents\").count().show()\n",
        "df = df.na.fill('0',subset=['Dependents'])\n",
        "df.groupBy(\"Dependents\").count().show()"
      ],
      "metadata": {
        "id": "unPIHDlNim0j",
        "colab": {
          "base_uri": "https://localhost:8080/"
        },
        "outputId": "2cc88564-fc67-4c94-9df0-f41915f338e6"
      },
      "execution_count": 22,
      "outputs": [
        {
          "output_type": "stream",
          "name": "stdout",
          "text": [
            "+----------+-----+\n",
            "|Dependents|count|\n",
            "+----------+-----+\n",
            "|         0|  345|\n",
            "|      null|   15|\n",
            "|         1|  102|\n",
            "|        3+|   51|\n",
            "|         2|  101|\n",
            "+----------+-----+\n",
            "\n",
            "+----------+-----+\n",
            "|Dependents|count|\n",
            "+----------+-----+\n",
            "|         0|  360|\n",
            "|         1|  102|\n",
            "|        3+|   51|\n",
            "|         2|  101|\n",
            "+----------+-----+\n",
            "\n"
          ]
        }
      ]
    },
    {
      "cell_type": "markdown",
      "source": [
        "There are 32 null/missing values in Self employed column. It is a categorical variable .As per my understanding there is no other category except yes and no.Male count of No is much greater than the yes count. So using mode for substitution of missing value by No."
      ],
      "metadata": {
        "id": "JkxBeOLNvMjF"
      }
    },
    {
      "cell_type": "code",
      "source": [
        "df.groupBy(\"Self_Employed\").count().show()\n",
        "df = df.na.fill('No',subset=['Self_Employed'])\n",
        "df.groupBy(\"Self_Employed\").count().show()"
      ],
      "metadata": {
        "id": "-IW77aV4itpj",
        "colab": {
          "base_uri": "https://localhost:8080/"
        },
        "outputId": "2a38882b-d6e1-4e48-e1fe-2cb291144f89"
      },
      "execution_count": 23,
      "outputs": [
        {
          "output_type": "stream",
          "name": "stdout",
          "text": [
            "+-------------+-----+\n",
            "|Self_Employed|count|\n",
            "+-------------+-----+\n",
            "|         null|   32|\n",
            "|           No|  500|\n",
            "|          Yes|   82|\n",
            "+-------------+-----+\n",
            "\n",
            "+-------------+-----+\n",
            "|Self_Employed|count|\n",
            "+-------------+-----+\n",
            "|           No|  532|\n",
            "|          Yes|   82|\n",
            "+-------------+-----+\n",
            "\n"
          ]
        }
      ]
    },
    {
      "cell_type": "markdown",
      "source": [
        "There are 50 null/missing values in Gender column. It is a categorical variable .As per my understanding there is no other category except yes for 1 and no for 0.Credit history 'yes' also denoted as 1 is greater than credit hisstory 'no' also denoted as 0. So using mode for substitution of missing value by Credit history 'yes'."
      ],
      "metadata": {
        "id": "82tF_wgiwr9K"
      }
    },
    {
      "cell_type": "code",
      "source": [
        "df.groupBy(\"Credit_History\").count().show()\n",
        "df = df.na.fill(1,subset=['Credit_History'])\n",
        "df.groupBy(\"Credit_History\").count().show()"
      ],
      "metadata": {
        "id": "lKMRPKDnizc3",
        "colab": {
          "base_uri": "https://localhost:8080/"
        },
        "outputId": "fedf2c3a-2998-4125-a0f2-796f6188f544"
      },
      "execution_count": 24,
      "outputs": [
        {
          "output_type": "stream",
          "name": "stdout",
          "text": [
            "+--------------+-----+\n",
            "|Credit_History|count|\n",
            "+--------------+-----+\n",
            "|          null|   50|\n",
            "|             1|  475|\n",
            "|             0|   89|\n",
            "+--------------+-----+\n",
            "\n",
            "+--------------+-----+\n",
            "|Credit_History|count|\n",
            "+--------------+-----+\n",
            "|             1|  525|\n",
            "|             0|   89|\n",
            "+--------------+-----+\n",
            "\n"
          ]
        }
      ]
    },
    {
      "cell_type": "markdown",
      "source": [
        "#EDA"
      ],
      "metadata": {
        "id": "k90qtK5Wi8w9"
      }
    },
    {
      "cell_type": "markdown",
      "source": [
        "Installed the required libraries for visualisation."
      ],
      "metadata": {
        "id": "YeKaXChdxPIb"
      }
    },
    {
      "cell_type": "code",
      "source": [
        "import seaborn as sns\n",
        "import matplotlib.pyplot as plt\n",
        "%matplotlib inline\n",
        "import warnings\n",
        "warnings.filterwarnings('ignore')"
      ],
      "metadata": {
        "id": "eJpjfBUsi4nu"
      },
      "execution_count": 25,
      "outputs": []
    },
    {
      "cell_type": "markdown",
      "source": [
        "Distribution of Loan Amount"
      ],
      "metadata": {
        "id": "haLWRbjxxlOY"
      }
    },
    {
      "cell_type": "code",
      "source": [
        "df_plot = df.select(['LoanAmount']).toPandas()\n",
        "sns.histplot(df_plot,bins=12)\n",
        "plt.title('Distribution of Loan Amount')"
      ],
      "metadata": {
        "id": "TT6b1mi5jFga",
        "colab": {
          "base_uri": "https://localhost:8080/",
          "height": 298
        },
        "outputId": "54ff80ff-3dbc-4446-e3d1-15c93523a2fa"
      },
      "execution_count": 26,
      "outputs": [
        {
          "output_type": "execute_result",
          "data": {
            "text/plain": [
              "Text(0.5, 1.0, 'Distribution of Loan Amount')"
            ]
          },
          "metadata": {},
          "execution_count": 26
        },
        {
          "output_type": "display_data",
          "data": {
            "image/png": "[encoded data removed]",
            "text/plain": [
              "<Figure size 432x288 with 1 Axes>"
            ]
          },
          "metadata": {
            "needs_background": "light"
          }
        }
      ]
    },
    {
      "cell_type": "markdown",
      "source": [
        "Distribution of Applicant Income.Right Skewed Distribution Observed."
      ],
      "metadata": {
        "id": "y-xLN-2OxzeJ"
      }
    },
    {
      "cell_type": "code",
      "source": [
        "df_plot = df.select(['ApplicantIncome']).toPandas()\n",
        "sns.histplot(df_plot,bins=12)\n",
        "plt.title('Distribution of Applicant Income')"
      ],
      "metadata": {
        "id": "_2Va09BWjMyL",
        "colab": {
          "base_uri": "https://localhost:8080/",
          "height": 298
        },
        "outputId": "7e6a1e12-c42b-4bb5-c185-4277dd9ab0b4"
      },
      "execution_count": 27,
      "outputs": [
        {
          "output_type": "execute_result",
          "data": {
            "text/plain": [
              "Text(0.5, 1.0, 'Distribution of Applicant Income')"
            ]
          },
          "metadata": {},
          "execution_count": 27
        },
        {
          "output_type": "display_data",
          "data": {
            "image/png": "[encoded data removed]",
            "text/plain": [
              "<Figure size 432x288 with 1 Axes>"
            ]
          },
          "metadata": {
            "needs_background": "light"
          }
        }
      ]
    },
    {
      "cell_type": "markdown",
      "source": [
        "Presence of Outliers in Applicant Income."
      ],
      "metadata": {
        "id": "S8nj0dT2yLZ5"
      }
    },
    {
      "cell_type": "code",
      "source": [
        "df_plot = df.select(['ApplicantIncome']).toPandas()\n",
        "plt.figure(figsize=(12,5))\n",
        "sns.boxplot(df_plot['ApplicantIncome'],color='turquoise')\n",
        "plt.title('Distribution of Applicant Income')"
      ],
      "metadata": {
        "id": "-PqsM7Q6XvnI",
        "colab": {
          "base_uri": "https://localhost:8080/",
          "height": 367
        },
        "outputId": "9837a642-5c6b-4289-a2c4-cd5642c767b7"
      },
      "execution_count": 28,
      "outputs": [
        {
          "output_type": "execute_result",
          "data": {
            "text/plain": [
              "Text(0.5, 1.0, 'Distribution of Applicant Income')"
            ]
          },
          "metadata": {},
          "execution_count": 28
        },
        {
          "output_type": "display_data",
          "data": {
            "image/png": "[encoded data removed]",
            "text/plain": [
              "<Figure size 864x360 with 1 Axes>"
            ]
          },
          "metadata": {
            "needs_background": "light"
          }
        }
      ]
    },
    {
      "cell_type": "markdown",
      "source": [
        "Presence of Outliers in Loan Amount.High amount of loan is given to some sectors."
      ],
      "metadata": {
        "id": "NrLAzur-yb_X"
      }
    },
    {
      "cell_type": "code",
      "source": [
        "df_plot = df.select(['LoanAmount']).toPandas()\n",
        "plt.figure(figsize=(12,5))\n",
        "sns.boxplot(df_plot['LoanAmount'],color='darkorchid')\n",
        "plt.title('Distribution of Loan Amount')"
      ],
      "metadata": {
        "id": "Y9jkToKEYAkf",
        "colab": {
          "base_uri": "https://localhost:8080/",
          "height": 367
        },
        "outputId": "bdd6057b-700d-4d74-91e1-79fa2acceb7c"
      },
      "execution_count": 29,
      "outputs": [
        {
          "output_type": "execute_result",
          "data": {
            "text/plain": [
              "Text(0.5, 1.0, 'Distribution of Loan Amount')"
            ]
          },
          "metadata": {},
          "execution_count": 29
        },
        {
          "output_type": "display_data",
          "data": {
            "image/png": "[encoded data removed]",
            "text/plain": [
              "<Figure size 864x360 with 1 Axes>"
            ]
          },
          "metadata": {
            "needs_background": "light"
          }
        }
      ]
    },
    {
      "cell_type": "markdown",
      "source": [
        "Loan Status Bar Plot."
      ],
      "metadata": {
        "id": "h7yTtyXzyl5o"
      }
    },
    {
      "cell_type": "code",
      "source": [
        "df.groupBy(\"Loan_Status\").count()\n",
        "df_plot = df.select(['Loan_Status']).toPandas()\n",
        "plt.figure(figsize=(12,5))\n",
        "sns.countplot(df_plot['Loan_Status'],palette='twilight',hatch='/')"
      ],
      "metadata": {
        "id": "cJp7K6rWjVmH",
        "colab": {
          "base_uri": "https://localhost:8080/",
          "height": 352
        },
        "outputId": "9977084b-a74a-448c-8e5f-82abb1ff46c9"
      },
      "execution_count": 30,
      "outputs": [
        {
          "output_type": "execute_result",
          "data": {
            "text/plain": [
              "<matplotlib.axes._subplots.AxesSubplot at 0x7f630a528750>"
            ]
          },
          "metadata": {},
          "execution_count": 30
        },
        {
          "output_type": "display_data",
          "data": {
            "image/png": "[encoded data removed]",
            "text/plain": [
              "<Figure size 864x360 with 1 Axes>"
            ]
          },
          "metadata": {
            "needs_background": "light"
          }
        }
      ]
    },
    {
      "cell_type": "markdown",
      "source": [
        "Median Loan Amount provided to Rural Area is slightly higher than Urban. But there are some people in Urban who has got higher loan amounts compared to Rural or Semi urban."
      ],
      "metadata": {
        "id": "vaSqY_uuzYu3"
      }
    },
    {
      "cell_type": "code",
      "source": [
        "df_plot = df.select(['Property_Area','LoanAmount']).toPandas()\n",
        "plt.figure(figsize=(12,5))\n",
        "sns.boxplot(df_plot['Property_Area'],df_plot['LoanAmount'],palette='husl')"
      ],
      "metadata": {
        "id": "w10g6xEgjeFn",
        "colab": {
          "base_uri": "https://localhost:8080/",
          "height": 352
        },
        "outputId": "7953cefc-d920-41fe-dbed-9c8c14890b0f"
      },
      "execution_count": 31,
      "outputs": [
        {
          "output_type": "execute_result",
          "data": {
            "text/plain": [
              "<matplotlib.axes._subplots.AxesSubplot at 0x7f630a52ff10>"
            ]
          },
          "metadata": {},
          "execution_count": 31
        },
        {
          "output_type": "display_data",
          "data": {
            "image/png": "[encoded data removed]",
            "text/plain": [
              "<Figure size 864x360 with 1 Axes>"
            ]
          },
          "metadata": {
            "needs_background": "light"
          }
        }
      ]
    },
    {
      "cell_type": "markdown",
      "source": [
        "Some of the graduates are generally have more income than the not graduates.There is no huge difference between their mean income.  "
      ],
      "metadata": {
        "id": "6UaeQ3lAz2IH"
      }
    },
    {
      "cell_type": "code",
      "source": [
        "df_plot = df.select(['Education','ApplicantIncome']).toPandas()\n",
        "plt.figure(figsize=(12,5))\n",
        "sns.boxplot(df_plot['Education'],df_plot['ApplicantIncome'],palette='dark:salmon_r')"
      ],
      "metadata": {
        "id": "YDGSAnlmjjoD",
        "colab": {
          "base_uri": "https://localhost:8080/",
          "height": 351
        },
        "outputId": "e32ca5c9-646b-47ec-b9f3-74f1efe7ee43"
      },
      "execution_count": 32,
      "outputs": [
        {
          "output_type": "execute_result",
          "data": {
            "text/plain": [
              "<matplotlib.axes._subplots.AxesSubplot at 0x7f630a281f50>"
            ]
          },
          "metadata": {},
          "execution_count": 32
        },
        {
          "output_type": "display_data",
          "data": {
            "image/png": "[encoded data removed]",
            "text/plain": [
              "<Figure size 864x360 with 1 Axes>"
            ]
          },
          "metadata": {
            "needs_background": "light"
          }
        }
      ]
    },
    {
      "cell_type": "markdown",
      "source": [
        "Loan Applicants are more in Male than the female but the chances of getting loan to the each category is almost equal.  "
      ],
      "metadata": {
        "id": "fgoj8dLM0akD"
      }
    },
    {
      "cell_type": "code",
      "source": [
        "df.groupBy(\"Gender\").pivot(\"Loan_Status\").count()\n",
        "df_plot = df.select(['Gender','Loan_Status']).toPandas()\n",
        "plt.figure(figsize=(12,5))\n",
        "sns.countplot(x=df_plot['Gender'],hue=df_plot['Loan_Status'],palette='mako',hatch='/')"
      ],
      "metadata": {
        "id": "aO7sv1_zjqR_",
        "colab": {
          "base_uri": "https://localhost:8080/",
          "height": 351
        },
        "outputId": "fc9856a9-9856-48f8-aa40-10598583e372"
      },
      "execution_count": 33,
      "outputs": [
        {
          "output_type": "execute_result",
          "data": {
            "text/plain": [
              "<matplotlib.axes._subplots.AxesSubplot at 0x7f630a52fed0>"
            ]
          },
          "metadata": {},
          "execution_count": 33
        },
        {
          "output_type": "display_data",
          "data": {
            "image/png": "[encoded data removed]",
            "text/plain": [
              "<Figure size 864x360 with 1 Axes>"
            ]
          },
          "metadata": {
            "needs_background": "light"
          }
        }
      ]
    },
    {
      "cell_type": "markdown",
      "source": [
        "Dependent 2 received more chance of getting loan."
      ],
      "metadata": {
        "id": "_9jjL4C81Ezv"
      }
    },
    {
      "cell_type": "code",
      "source": [
        "df.groupBy(\"Dependents\").pivot(\"Loan_Status\").count()\n",
        "df_plot = df.select(['Dependents','Loan_Status']).toPandas()\n",
        "plt.figure(figsize=(12,5))\n",
        "sns.countplot(x=df_plot['Dependents'],hue=df_plot['Loan_Status'],palette='viridis',hatch='/')"
      ],
      "metadata": {
        "id": "ycyBM9Ikjwrj",
        "colab": {
          "base_uri": "https://localhost:8080/",
          "height": 351
        },
        "outputId": "18dfea53-b1e6-409c-a2de-00c17f3c9a39"
      },
      "execution_count": 34,
      "outputs": [
        {
          "output_type": "execute_result",
          "data": {
            "text/plain": [
              "<matplotlib.axes._subplots.AxesSubplot at 0x7f630a40ad90>"
            ]
          },
          "metadata": {},
          "execution_count": 34
        },
        {
          "output_type": "display_data",
          "data": {
            "image/png": "[encoded data removed]",
            "text/plain": [
              "<Figure size 864x360 with 1 Axes>"
            ]
          },
          "metadata": {
            "needs_background": "light"
          }
        }
      ]
    },
    {
      "cell_type": "markdown",
      "source": [
        "Graduates have more chance of getting loan approved."
      ],
      "metadata": {
        "id": "w89JfJXm1gOy"
      }
    },
    {
      "cell_type": "code",
      "source": [
        "df.groupBy(\"Education\").pivot(\"Loan_Status\").count()\n",
        "df_plot = df.select(['Education','Loan_Status']).toPandas()\n",
        "plt.figure(figsize=(12,5))\n",
        "sns.countplot(x=df_plot['Education'],hue=df_plot['Loan_Status'],palette='cubehelix',hatch='/')"
      ],
      "metadata": {
        "id": "S-SR4Nsaj4AH",
        "colab": {
          "base_uri": "https://localhost:8080/",
          "height": 351
        },
        "outputId": "a74ff077-f2c5-4d1e-a844-0842bd77fc1d"
      },
      "execution_count": 35,
      "outputs": [
        {
          "output_type": "execute_result",
          "data": {
            "text/plain": [
              "<matplotlib.axes._subplots.AxesSubplot at 0x7f630a148fd0>"
            ]
          },
          "metadata": {},
          "execution_count": 35
        },
        {
          "output_type": "display_data",
          "data": {
            "image/png": "[encoded data removed]",
            "text/plain": [
              "<Figure size 864x360 with 1 Axes>"
            ]
          },
          "metadata": {
            "needs_background": "light"
          }
        }
      ]
    },
    {
      "cell_type": "markdown",
      "source": [
        "Semi urban areas have much higher chance of getting loan than the other areas."
      ],
      "metadata": {
        "id": "iOnAblVw1neg"
      }
    },
    {
      "cell_type": "code",
      "source": [
        "df.groupBy(\"Property_Area\").pivot(\"Loan_Status\").count()\n",
        "df_plot = df.select(['Property_Area','Loan_Status']).toPandas()\n",
        "plt.figure(figsize=(12,5))\n",
        "sns.countplot(x=df_plot['Property_Area'],hue=df_plot['Loan_Status'],palette='ch:s=-.2,r=.6',hatch='/')"
      ],
      "metadata": {
        "id": "087uFLTPkCwD",
        "colab": {
          "base_uri": "https://localhost:8080/",
          "height": 352
        },
        "outputId": "fe65f69c-67b4-47b6-8f6c-76e330abdeb5"
      },
      "execution_count": 36,
      "outputs": [
        {
          "output_type": "execute_result",
          "data": {
            "text/plain": [
              "<matplotlib.axes._subplots.AxesSubplot at 0x7f630a0e6c10>"
            ]
          },
          "metadata": {},
          "execution_count": 36
        },
        {
          "output_type": "display_data",
          "data": {
            "image/png": "[encoded data removed]",
            "text/plain": [
              "<Figure size 864x360 with 1 Axes>"
            ]
          },
          "metadata": {
            "needs_background": "light"
          }
        }
      ]
    },
    {
      "cell_type": "markdown",
      "source": [
        "#Feature Engineering"
      ],
      "metadata": {
        "id": "MiRsjSmTkeX6"
      }
    },
    {
      "cell_type": "markdown",
      "source": [
        "Creating a Total Income column to sum the amount  of income of Applicant Income and co applicant income.\n",
        "\n",
        "Reference 1 : https://stackoverflow.com/questions/31955309/add-column-sum-as-new-column-in-pyspark-dataframe\n",
        "\n",
        "Reference 2 : https://www.geeksforgeeks.org/pyspark-dataframe-add-column-based-on-other-columns/"
      ],
      "metadata": {
        "id": "1lYerjCH1xwk"
      }
    },
    {
      "cell_type": "code",
      "source": [
        "from pyspark.sql.functions import col\n",
        "df = df.withColumn(\"TotalIncome\", col(\"ApplicantIncome\")+col(\"CoapplicantIncome\"))\n",
        "df.show(5)"
      ],
      "metadata": {
        "id": "J1mzl6yvkLja",
        "colab": {
          "base_uri": "https://localhost:8080/"
        },
        "outputId": "d2a83eb8-4e57-4f13-a5af-4a696d23713b"
      },
      "execution_count": 37,
      "outputs": [
        {
          "output_type": "stream",
          "name": "stdout",
          "text": [
            "+------+-------+----------+------------+-------------+---------------+-----------------+----------+----------------+--------------+-------------+-----------+-----------+\n",
            "|Gender|Married|Dependents|   Education|Self_Employed|ApplicantIncome|CoapplicantIncome|LoanAmount|Loan_Amount_Term|Credit_History|Property_Area|Loan_Status|TotalIncome|\n",
            "+------+-------+----------+------------+-------------+---------------+-----------------+----------+----------------+--------------+-------------+-----------+-----------+\n",
            "|  Male|     No|         0|    Graduate|           No|           5849|              0.0|       146|             360|             1|        Urban|          Y|     5849.0|\n",
            "|  Male|    Yes|         1|    Graduate|           No|           4583|           1508.0|       128|             360|             1|        Rural|          N|     6091.0|\n",
            "|  Male|    Yes|         0|    Graduate|          Yes|           3000|              0.0|        66|             360|             1|        Urban|          Y|     3000.0|\n",
            "|  Male|    Yes|         0|Not Graduate|           No|           2583|           2358.0|       120|             360|             1|        Urban|          Y|     4941.0|\n",
            "|  Male|     No|         0|    Graduate|           No|           6000|              0.0|       141|             360|             1|        Urban|          Y|     6000.0|\n",
            "+------+-------+----------+------------+-------------+---------------+-----------------+----------+----------------+--------------+-------------+-----------+-----------+\n",
            "only showing top 5 rows\n",
            "\n"
          ]
        }
      ]
    },
    {
      "cell_type": "markdown",
      "source": [
        "Creating EMI column by dividing the loan amount by the loan amount term."
      ],
      "metadata": {
        "id": "kGvxbwEE2EAh"
      }
    },
    {
      "cell_type": "code",
      "source": [
        "df = df.withColumn(\"EMI\", col(\"LoanAmount\")/col(\"Loan_Amount_Term\"))\n",
        "df.show(5)"
      ],
      "metadata": {
        "id": "oP_qLUH-ki8H",
        "colab": {
          "base_uri": "https://localhost:8080/"
        },
        "outputId": "0e296db9-6cd7-49b8-e293-efaf30d8f932"
      },
      "execution_count": 38,
      "outputs": [
        {
          "output_type": "stream",
          "name": "stdout",
          "text": [
            "+------+-------+----------+------------+-------------+---------------+-----------------+----------+----------------+--------------+-------------+-----------+-----------+-------------------+\n",
            "|Gender|Married|Dependents|   Education|Self_Employed|ApplicantIncome|CoapplicantIncome|LoanAmount|Loan_Amount_Term|Credit_History|Property_Area|Loan_Status|TotalIncome|                EMI|\n",
            "+------+-------+----------+------------+-------------+---------------+-----------------+----------+----------------+--------------+-------------+-----------+-----------+-------------------+\n",
            "|  Male|     No|         0|    Graduate|           No|           5849|              0.0|       146|             360|             1|        Urban|          Y|     5849.0|0.40555555555555556|\n",
            "|  Male|    Yes|         1|    Graduate|           No|           4583|           1508.0|       128|             360|             1|        Rural|          N|     6091.0|0.35555555555555557|\n",
            "|  Male|    Yes|         0|    Graduate|          Yes|           3000|              0.0|        66|             360|             1|        Urban|          Y|     3000.0|0.18333333333333332|\n",
            "|  Male|    Yes|         0|Not Graduate|           No|           2583|           2358.0|       120|             360|             1|        Urban|          Y|     4941.0| 0.3333333333333333|\n",
            "|  Male|     No|         0|    Graduate|           No|           6000|              0.0|       141|             360|             1|        Urban|          Y|     6000.0|0.39166666666666666|\n",
            "+------+-------+----------+------------+-------------+---------------+-----------------+----------+----------------+--------------+-------------+-----------+-----------+-------------------+\n",
            "only showing top 5 rows\n",
            "\n"
          ]
        }
      ]
    },
    {
      "cell_type": "markdown",
      "source": [
        "#Data Preprocessing"
      ],
      "metadata": {
        "id": "ZWWKTYd4knnD"
      }
    },
    {
      "cell_type": "markdown",
      "source": [
        "A label indexer that maps a string column of labels to an ML column of label indices. If the input column is numeric, we cast it to string and index the string values. The indices are in [0, numLabels). By default, this is ordered by label frequencies so the most frequent label gets index 0. The ordering behavior is controlled by setting stringOrderType. Its default value is ‘frequencyDesc’.\n",
        "\n",
        "Reference : https://spark.apache.org/docs/latest/api/python/reference/api/pyspark.ml.feature.StringIndexer.html"
      ],
      "metadata": {
        "id": "Ja0XWY2u3QQk"
      }
    },
    {
      "cell_type": "code",
      "source": [
        "from pyspark.ml.feature import StringIndexer, OneHotEncoder\n",
        "SI_gender = StringIndexer(inputCol='Gender',outputCol='gender_Index')\n",
        "SI_married = StringIndexer(inputCol='Married',outputCol='married_Index')\n",
        "SI_dependents = StringIndexer(inputCol='Dependents',outputCol='dependents_Index')\n",
        "SI_education = StringIndexer(inputCol='Education',outputCol='education_Index')\n",
        "SI_selfemp = StringIndexer(inputCol='Self_Employed',outputCol='selfemp_Index')\n",
        "SI_credit = StringIndexer(inputCol='Credit_History',outputCol='credit_Index')\n",
        "SI_property = StringIndexer(inputCol='Property_Area',outputCol='property_Index')\n",
        "SI_loanstatus = StringIndexer(inputCol='Loan_Status',outputCol='loanstatus_Index')\n",
        "\n",
        "df = SI_gender.fit(df).transform(df)\n",
        "df = SI_married.fit(df).transform(df)\n",
        "df = SI_dependents.fit(df).transform(df)\n",
        "df = SI_education.fit(df).transform(df)\n",
        "df = SI_selfemp.fit(df).transform(df)\n",
        "df = SI_credit.fit(df).transform(df)\n",
        "df = SI_property.fit(df).transform(df)\n",
        "df = SI_loanstatus.fit(df).transform(df)"
      ],
      "metadata": {
        "id": "hocRZ7dUklXj"
      },
      "execution_count": 39,
      "outputs": []
    },
    {
      "cell_type": "markdown",
      "source": [
        "Checking the transformed data."
      ],
      "metadata": {
        "id": "YAGjxL0q4x9W"
      }
    },
    {
      "cell_type": "code",
      "source": [
        "df.select('Gender', 'gender_Index', 'Married', 'married_Index','Dependents','dependents_Index','Education','education_Index','Self_Employed','selfemp_Index','Credit_History','credit_Index','Property_Area','property_Index','Loan_Status','loanstatus_Index').show(5)"
      ],
      "metadata": {
        "id": "PA9Q5LK7kz2V",
        "colab": {
          "base_uri": "https://localhost:8080/"
        },
        "outputId": "3698020b-d6d8-4707-f084-b894e00bb958"
      },
      "execution_count": 40,
      "outputs": [
        {
          "output_type": "stream",
          "name": "stdout",
          "text": [
            "+------+------------+-------+-------------+----------+----------------+------------+---------------+-------------+-------------+--------------+------------+-------------+--------------+-----------+----------------+\n",
            "|Gender|gender_Index|Married|married_Index|Dependents|dependents_Index|   Education|education_Index|Self_Employed|selfemp_Index|Credit_History|credit_Index|Property_Area|property_Index|Loan_Status|loanstatus_Index|\n",
            "+------+------------+-------+-------------+----------+----------------+------------+---------------+-------------+-------------+--------------+------------+-------------+--------------+-----------+----------------+\n",
            "|  Male|         0.0|     No|          1.0|         0|             0.0|    Graduate|            0.0|           No|          0.0|             1|         0.0|        Urban|           1.0|          Y|             0.0|\n",
            "|  Male|         0.0|    Yes|          0.0|         1|             1.0|    Graduate|            0.0|           No|          0.0|             1|         0.0|        Rural|           2.0|          N|             1.0|\n",
            "|  Male|         0.0|    Yes|          0.0|         0|             0.0|    Graduate|            0.0|          Yes|          1.0|             1|         0.0|        Urban|           1.0|          Y|             0.0|\n",
            "|  Male|         0.0|    Yes|          0.0|         0|             0.0|Not Graduate|            1.0|           No|          0.0|             1|         0.0|        Urban|           1.0|          Y|             0.0|\n",
            "|  Male|         0.0|     No|          1.0|         0|             0.0|    Graduate|            0.0|           No|          0.0|             1|         0.0|        Urban|           1.0|          Y|             0.0|\n",
            "+------+------------+-------+-------------+----------+----------------+------------+---------------+-------------+-------------+--------------+------------+-------------+--------------+-----------+----------------+\n",
            "only showing top 5 rows\n",
            "\n"
          ]
        }
      ]
    },
    {
      "cell_type": "markdown",
      "source": [
        "At First create object and specify input and output column.Then fit and Transform the data.Then checked the output.One Hot Encoding is used for converting categorical attributes into a numeric vector that machine learning models can understand.\n",
        "\n",
        "\n",
        "Reference : https://spark.apache.org/docs/3.1.1/api/python/reference/api/pyspark.ml.feature.OneHotEncoder.html#:~:text=A%20one%2Dhot%20encoder%20that,0.0%2C%201.0%2C%200.0%5D%20."
      ],
      "metadata": {
        "id": "jUlYlTk45ExP"
      }
    },
    {
      "cell_type": "code",
      "source": [
        "OHE = OneHotEncoder(inputCols=['gender_Index', 'married_Index','dependents_Index','education_Index',\n",
        "                               'selfemp_Index','credit_Index','property_Index','loanstatus_Index'],\n",
        "                    outputCols=['gender_OHE', 'married_OHE','dependents_OHE','education_OHE',\n",
        "                                'selfemp_OHE','credit_OHE','property_OHE','loanstatus_OHE'])\n",
        "df = OHE.fit(df).transform(df)\n",
        "df.select('gender_Index', 'gender_OHE', 'education_Index','education_OHE','credit_Index',\n",
        "          'credit_OHE','property_Index','property_OHE').show(10)"
      ],
      "metadata": {
        "id": "sGSf37iTk3Va",
        "colab": {
          "base_uri": "https://localhost:8080/"
        },
        "outputId": "ad42c3dc-1508-4116-c08b-16e50194d538"
      },
      "execution_count": 41,
      "outputs": [
        {
          "output_type": "stream",
          "name": "stdout",
          "text": [
            "+------------+-------------+---------------+-------------+------------+-------------+--------------+-------------+\n",
            "|gender_Index|   gender_OHE|education_Index|education_OHE|credit_Index|   credit_OHE|property_Index| property_OHE|\n",
            "+------------+-------------+---------------+-------------+------------+-------------+--------------+-------------+\n",
            "|         0.0|(1,[0],[1.0])|            0.0|(1,[0],[1.0])|         0.0|(1,[0],[1.0])|           1.0|(2,[1],[1.0])|\n",
            "|         0.0|(1,[0],[1.0])|            0.0|(1,[0],[1.0])|         0.0|(1,[0],[1.0])|           2.0|    (2,[],[])|\n",
            "|         0.0|(1,[0],[1.0])|            0.0|(1,[0],[1.0])|         0.0|(1,[0],[1.0])|           1.0|(2,[1],[1.0])|\n",
            "|         0.0|(1,[0],[1.0])|            1.0|    (1,[],[])|         0.0|(1,[0],[1.0])|           1.0|(2,[1],[1.0])|\n",
            "|         0.0|(1,[0],[1.0])|            0.0|(1,[0],[1.0])|         0.0|(1,[0],[1.0])|           1.0|(2,[1],[1.0])|\n",
            "|         0.0|(1,[0],[1.0])|            0.0|(1,[0],[1.0])|         0.0|(1,[0],[1.0])|           1.0|(2,[1],[1.0])|\n",
            "|         0.0|(1,[0],[1.0])|            1.0|    (1,[],[])|         0.0|(1,[0],[1.0])|           1.0|(2,[1],[1.0])|\n",
            "|         0.0|(1,[0],[1.0])|            0.0|(1,[0],[1.0])|         1.0|    (1,[],[])|           0.0|(2,[0],[1.0])|\n",
            "|         0.0|(1,[0],[1.0])|            0.0|(1,[0],[1.0])|         0.0|(1,[0],[1.0])|           1.0|(2,[1],[1.0])|\n",
            "|         0.0|(1,[0],[1.0])|            0.0|(1,[0],[1.0])|         0.0|(1,[0],[1.0])|           0.0|(2,[0],[1.0])|\n",
            "+------------+-------------+---------------+-------------+------------+-------------+--------------+-------------+\n",
            "only showing top 10 rows\n",
            "\n"
          ]
        }
      ]
    },
    {
      "cell_type": "code",
      "source": [
        "df.select('Married','married_Index', 'married_OHE',\n",
        "          'Property_Area','property_Index','property_OHE').show(10)"
      ],
      "metadata": {
        "id": "AUdozcGfk66n",
        "colab": {
          "base_uri": "https://localhost:8080/"
        },
        "outputId": "a10cb80b-ba49-40c0-fda9-0de1858087d4"
      },
      "execution_count": 42,
      "outputs": [
        {
          "output_type": "stream",
          "name": "stdout",
          "text": [
            "+-------+-------------+-------------+-------------+--------------+-------------+\n",
            "|Married|married_Index|  married_OHE|Property_Area|property_Index| property_OHE|\n",
            "+-------+-------------+-------------+-------------+--------------+-------------+\n",
            "|     No|          1.0|    (1,[],[])|        Urban|           1.0|(2,[1],[1.0])|\n",
            "|    Yes|          0.0|(1,[0],[1.0])|        Rural|           2.0|    (2,[],[])|\n",
            "|    Yes|          0.0|(1,[0],[1.0])|        Urban|           1.0|(2,[1],[1.0])|\n",
            "|    Yes|          0.0|(1,[0],[1.0])|        Urban|           1.0|(2,[1],[1.0])|\n",
            "|     No|          1.0|    (1,[],[])|        Urban|           1.0|(2,[1],[1.0])|\n",
            "|    Yes|          0.0|(1,[0],[1.0])|        Urban|           1.0|(2,[1],[1.0])|\n",
            "|    Yes|          0.0|(1,[0],[1.0])|        Urban|           1.0|(2,[1],[1.0])|\n",
            "|    Yes|          0.0|(1,[0],[1.0])|    Semiurban|           0.0|(2,[0],[1.0])|\n",
            "|    Yes|          0.0|(1,[0],[1.0])|        Urban|           1.0|(2,[1],[1.0])|\n",
            "|    Yes|          0.0|(1,[0],[1.0])|    Semiurban|           0.0|(2,[0],[1.0])|\n",
            "+-------+-------------+-------------+-------------+--------------+-------------+\n",
            "only showing top 10 rows\n",
            "\n"
          ]
        }
      ]
    },
    {
      "cell_type": "markdown",
      "source": [
        "Showing All the Columns."
      ],
      "metadata": {
        "id": "zzfH6Z3e5m4s"
      }
    },
    {
      "cell_type": "code",
      "source": [
        "df.show(5)"
      ],
      "metadata": {
        "id": "lcfxhH3gk_lX",
        "colab": {
          "base_uri": "https://localhost:8080/"
        },
        "outputId": "36914290-f98c-462b-ed9d-f9d66f6f98d2"
      },
      "execution_count": 43,
      "outputs": [
        {
          "output_type": "stream",
          "name": "stdout",
          "text": [
            "+------+-------+----------+------------+-------------+---------------+-----------------+----------+----------------+--------------+-------------+-----------+-----------+-------------------+------------+-------------+----------------+---------------+-------------+------------+--------------+----------------+--------------+-------------+-------------+--------------+-------------+-------------+-------------+-------------+\n",
            "|Gender|Married|Dependents|   Education|Self_Employed|ApplicantIncome|CoapplicantIncome|LoanAmount|Loan_Amount_Term|Credit_History|Property_Area|Loan_Status|TotalIncome|                EMI|gender_Index|married_Index|dependents_Index|education_Index|selfemp_Index|credit_Index|property_Index|loanstatus_Index|loanstatus_OHE|  married_OHE|  selfemp_OHE|dependents_OHE| property_OHE|   gender_OHE|   credit_OHE|education_OHE|\n",
            "+------+-------+----------+------------+-------------+---------------+-----------------+----------+----------------+--------------+-------------+-----------+-----------+-------------------+------------+-------------+----------------+---------------+-------------+------------+--------------+----------------+--------------+-------------+-------------+--------------+-------------+-------------+-------------+-------------+\n",
            "|  Male|     No|         0|    Graduate|           No|           5849|              0.0|       146|             360|             1|        Urban|          Y|     5849.0|0.40555555555555556|         0.0|          1.0|             0.0|            0.0|          0.0|         0.0|           1.0|             0.0| (1,[0],[1.0])|    (1,[],[])|(1,[0],[1.0])| (3,[0],[1.0])|(2,[1],[1.0])|(1,[0],[1.0])|(1,[0],[1.0])|(1,[0],[1.0])|\n",
            "|  Male|    Yes|         1|    Graduate|           No|           4583|           1508.0|       128|             360|             1|        Rural|          N|     6091.0|0.35555555555555557|         0.0|          0.0|             1.0|            0.0|          0.0|         0.0|           2.0|             1.0|     (1,[],[])|(1,[0],[1.0])|(1,[0],[1.0])| (3,[1],[1.0])|    (2,[],[])|(1,[0],[1.0])|(1,[0],[1.0])|(1,[0],[1.0])|\n",
            "|  Male|    Yes|         0|    Graduate|          Yes|           3000|              0.0|        66|             360|             1|        Urban|          Y|     3000.0|0.18333333333333332|         0.0|          0.0|             0.0|            0.0|          1.0|         0.0|           1.0|             0.0| (1,[0],[1.0])|(1,[0],[1.0])|    (1,[],[])| (3,[0],[1.0])|(2,[1],[1.0])|(1,[0],[1.0])|(1,[0],[1.0])|(1,[0],[1.0])|\n",
            "|  Male|    Yes|         0|Not Graduate|           No|           2583|           2358.0|       120|             360|             1|        Urban|          Y|     4941.0| 0.3333333333333333|         0.0|          0.0|             0.0|            1.0|          0.0|         0.0|           1.0|             0.0| (1,[0],[1.0])|(1,[0],[1.0])|(1,[0],[1.0])| (3,[0],[1.0])|(2,[1],[1.0])|(1,[0],[1.0])|(1,[0],[1.0])|    (1,[],[])|\n",
            "|  Male|     No|         0|    Graduate|           No|           6000|              0.0|       141|             360|             1|        Urban|          Y|     6000.0|0.39166666666666666|         0.0|          1.0|             0.0|            0.0|          0.0|         0.0|           1.0|             0.0| (1,[0],[1.0])|    (1,[],[])|(1,[0],[1.0])| (3,[0],[1.0])|(2,[1],[1.0])|(1,[0],[1.0])|(1,[0],[1.0])|(1,[0],[1.0])|\n",
            "+------+-------+----------+------------+-------------+---------------+-----------------+----------+----------------+--------------+-------------+-----------+-----------+-------------------+------------+-------------+----------------+---------------+-------------+------------+--------------+----------------+--------------+-------------+-------------+--------------+-------------+-------------+-------------+-------------+\n",
            "only showing top 5 rows\n",
            "\n"
          ]
        }
      ]
    },
    {
      "cell_type": "markdown",
      "source": [
        "Checking for Correlation."
      ],
      "metadata": {
        "id": "DcJPuuI85tiJ"
      }
    },
    {
      "cell_type": "code",
      "source": [
        "df_corr = df.toPandas()\n",
        "corr = df_corr.corr()\n",
        "corr"
      ],
      "metadata": {
        "id": "PuYfeSlQlCky",
        "colab": {
          "base_uri": "https://localhost:8080/",
          "height": 584
        },
        "outputId": "9252c3b0-6fae-4f62-896a-25f6b6a7cc15"
      },
      "execution_count": 44,
      "outputs": [
        {
          "output_type": "execute_result",
          "data": {
            "text/html": [
              "\n",
              "  <div id=\"df-bfd760eb-34b3-40be-94b8-ede5a7d54db3\">\n",
              "    <div class=\"colab-df-container\">\n",
              "      <div>\n",
              "<style scoped>\n",
              "    .dataframe tbody tr th:only-of-type {\n",
              "        vertical-align: middle;\n",
              "    }\n",
              "\n",
              "    .dataframe tbody tr th {\n",
              "        vertical-align: top;\n",
              "    }\n",
              "\n",
              "    .dataframe thead th {\n",
              "        text-align: right;\n",
              "    }\n",
              "</style>\n",
              "<table border=\"1\" class=\"dataframe\">\n",
              "  <thead>\n",
              "    <tr style=\"text-align: right;\">\n",
              "      <th></th>\n",
              "      <th>ApplicantIncome</th>\n",
              "      <th>CoapplicantIncome</th>\n",
              "      <th>LoanAmount</th>\n",
              "      <th>Loan_Amount_Term</th>\n",
              "      <th>Credit_History</th>\n",
              "      <th>TotalIncome</th>\n",
              "      <th>EMI</th>\n",
              "      <th>gender_Index</th>\n",
              "      <th>married_Index</th>\n",
              "      <th>dependents_Index</th>\n",
              "      <th>education_Index</th>\n",
              "      <th>selfemp_Index</th>\n",
              "      <th>credit_Index</th>\n",
              "      <th>property_Index</th>\n",
              "      <th>loanstatus_Index</th>\n",
              "    </tr>\n",
              "  </thead>\n",
              "  <tbody>\n",
              "    <tr>\n",
              "      <th>ApplicantIncome</th>\n",
              "      <td>1.000000</td>\n",
              "      <td>-0.116605</td>\n",
              "      <td>0.565621</td>\n",
              "      <td>-0.046531</td>\n",
              "      <td>-0.018615</td>\n",
              "      <td>0.893037</td>\n",
              "      <td>0.320525</td>\n",
              "      <td>-0.058809</td>\n",
              "      <td>-0.051708</td>\n",
              "      <td>0.118202</td>\n",
              "      <td>-0.140760</td>\n",
              "      <td>0.127180</td>\n",
              "      <td>0.018615</td>\n",
              "      <td>0.017321</td>\n",
              "      <td>0.004710</td>\n",
              "    </tr>\n",
              "    <tr>\n",
              "      <th>CoapplicantIncome</th>\n",
              "      <td>-0.116605</td>\n",
              "      <td>1.000000</td>\n",
              "      <td>0.187863</td>\n",
              "      <td>-0.059383</td>\n",
              "      <td>0.011134</td>\n",
              "      <td>0.342781</td>\n",
              "      <td>0.135695</td>\n",
              "      <td>-0.082912</td>\n",
              "      <td>-0.075948</td>\n",
              "      <td>0.030430</td>\n",
              "      <td>-0.062290</td>\n",
              "      <td>-0.016100</td>\n",
              "      <td>-0.011134</td>\n",
              "      <td>0.019087</td>\n",
              "      <td>0.059187</td>\n",
              "    </tr>\n",
              "    <tr>\n",
              "      <th>LoanAmount</th>\n",
              "      <td>0.565621</td>\n",
              "      <td>0.187863</td>\n",
              "      <td>1.000000</td>\n",
              "      <td>0.036486</td>\n",
              "      <td>-0.001412</td>\n",
              "      <td>0.620118</td>\n",
              "      <td>0.491286</td>\n",
              "      <td>-0.107909</td>\n",
              "      <td>-0.147131</td>\n",
              "      <td>0.163108</td>\n",
              "      <td>-0.167041</td>\n",
              "      <td>0.115259</td>\n",
              "      <td>0.001412</td>\n",
              "      <td>0.028995</td>\n",
              "      <td>0.036345</td>\n",
              "    </tr>\n",
              "    <tr>\n",
              "      <th>Loan_Amount_Term</th>\n",
              "      <td>-0.046531</td>\n",
              "      <td>-0.059383</td>\n",
              "      <td>0.036486</td>\n",
              "      <td>1.000000</td>\n",
              "      <td>-0.004705</td>\n",
              "      <td>-0.070917</td>\n",
              "      <td>-0.501359</td>\n",
              "      <td>0.074030</td>\n",
              "      <td>0.100912</td>\n",
              "      <td>-0.103864</td>\n",
              "      <td>-0.073928</td>\n",
              "      <td>-0.033739</td>\n",
              "      <td>0.004705</td>\n",
              "      <td>-0.016086</td>\n",
              "      <td>0.022549</td>\n",
              "    </tr>\n",
              "    <tr>\n",
              "      <th>Credit_History</th>\n",
              "      <td>-0.018615</td>\n",
              "      <td>0.011134</td>\n",
              "      <td>-0.001412</td>\n",
              "      <td>-0.004705</td>\n",
              "      <td>1.000000</td>\n",
              "      <td>-0.012563</td>\n",
              "      <td>0.015005</td>\n",
              "      <td>-0.009170</td>\n",
              "      <td>-0.010938</td>\n",
              "      <td>-0.040160</td>\n",
              "      <td>-0.073658</td>\n",
              "      <td>-0.001550</td>\n",
              "      <td>-1.000000</td>\n",
              "      <td>-0.033102</td>\n",
              "      <td>-0.540556</td>\n",
              "    </tr>\n",
              "    <tr>\n",
              "      <th>TotalIncome</th>\n",
              "      <td>0.893037</td>\n",
              "      <td>0.342781</td>\n",
              "      <td>0.620118</td>\n",
              "      <td>-0.070917</td>\n",
              "      <td>-0.012563</td>\n",
              "      <td>1.000000</td>\n",
              "      <td>0.364654</td>\n",
              "      <td>-0.093191</td>\n",
              "      <td>-0.083319</td>\n",
              "      <td>0.125590</td>\n",
              "      <td>-0.161362</td>\n",
              "      <td>0.113000</td>\n",
              "      <td>0.012563</td>\n",
              "      <td>0.025032</td>\n",
              "      <td>0.031271</td>\n",
              "    </tr>\n",
              "    <tr>\n",
              "      <th>EMI</th>\n",
              "      <td>0.320525</td>\n",
              "      <td>0.135695</td>\n",
              "      <td>0.491286</td>\n",
              "      <td>-0.501359</td>\n",
              "      <td>0.015005</td>\n",
              "      <td>0.364654</td>\n",
              "      <td>1.000000</td>\n",
              "      <td>-0.060169</td>\n",
              "      <td>-0.094347</td>\n",
              "      <td>0.103414</td>\n",
              "      <td>-0.075777</td>\n",
              "      <td>0.051647</td>\n",
              "      <td>-0.015005</td>\n",
              "      <td>0.005380</td>\n",
              "      <td>0.013595</td>\n",
              "    </tr>\n",
              "    <tr>\n",
              "      <th>gender_Index</th>\n",
              "      <td>-0.058809</td>\n",
              "      <td>-0.082912</td>\n",
              "      <td>-0.107909</td>\n",
              "      <td>0.074030</td>\n",
              "      <td>-0.009170</td>\n",
              "      <td>-0.093191</td>\n",
              "      <td>-0.060169</td>\n",
              "      <td>1.000000</td>\n",
              "      <td>0.364569</td>\n",
              "      <td>-0.172914</td>\n",
              "      <td>-0.045364</td>\n",
              "      <td>0.000525</td>\n",
              "      <td>0.009170</td>\n",
              "      <td>-0.109521</td>\n",
              "      <td>0.017987</td>\n",
              "    </tr>\n",
              "    <tr>\n",
              "      <th>married_Index</th>\n",
              "      <td>-0.051708</td>\n",
              "      <td>-0.075948</td>\n",
              "      <td>-0.147131</td>\n",
              "      <td>0.100912</td>\n",
              "      <td>-0.010938</td>\n",
              "      <td>-0.083319</td>\n",
              "      <td>-0.094347</td>\n",
              "      <td>0.364569</td>\n",
              "      <td>1.000000</td>\n",
              "      <td>-0.334216</td>\n",
              "      <td>-0.012304</td>\n",
              "      <td>-0.004489</td>\n",
              "      <td>0.010938</td>\n",
              "      <td>0.007281</td>\n",
              "      <td>0.091478</td>\n",
              "    </tr>\n",
              "    <tr>\n",
              "      <th>dependents_Index</th>\n",
              "      <td>0.118202</td>\n",
              "      <td>0.030430</td>\n",
              "      <td>0.163108</td>\n",
              "      <td>-0.103864</td>\n",
              "      <td>-0.040160</td>\n",
              "      <td>0.125590</td>\n",
              "      <td>0.103414</td>\n",
              "      <td>-0.172914</td>\n",
              "      <td>-0.334216</td>\n",
              "      <td>1.000000</td>\n",
              "      <td>0.055752</td>\n",
              "      <td>0.056798</td>\n",
              "      <td>0.040160</td>\n",
              "      <td>-0.001601</td>\n",
              "      <td>-0.010118</td>\n",
              "    </tr>\n",
              "    <tr>\n",
              "      <th>education_Index</th>\n",
              "      <td>-0.140760</td>\n",
              "      <td>-0.062290</td>\n",
              "      <td>-0.167041</td>\n",
              "      <td>-0.073928</td>\n",
              "      <td>-0.073658</td>\n",
              "      <td>-0.161362</td>\n",
              "      <td>-0.075777</td>\n",
              "      <td>-0.045364</td>\n",
              "      <td>-0.012304</td>\n",
              "      <td>0.055752</td>\n",
              "      <td>1.000000</td>\n",
              "      <td>-0.010383</td>\n",
              "      <td>0.073658</td>\n",
              "      <td>0.066740</td>\n",
              "      <td>0.085884</td>\n",
              "    </tr>\n",
              "    <tr>\n",
              "      <th>selfemp_Index</th>\n",
              "      <td>0.127180</td>\n",
              "      <td>-0.016100</td>\n",
              "      <td>0.115259</td>\n",
              "      <td>-0.033739</td>\n",
              "      <td>-0.001550</td>\n",
              "      <td>0.113000</td>\n",
              "      <td>0.051647</td>\n",
              "      <td>0.000525</td>\n",
              "      <td>-0.004489</td>\n",
              "      <td>0.056798</td>\n",
              "      <td>-0.010383</td>\n",
              "      <td>1.000000</td>\n",
              "      <td>0.001550</td>\n",
              "      <td>0.007124</td>\n",
              "      <td>0.003700</td>\n",
              "    </tr>\n",
              "    <tr>\n",
              "      <th>credit_Index</th>\n",
              "      <td>0.018615</td>\n",
              "      <td>-0.011134</td>\n",
              "      <td>0.001412</td>\n",
              "      <td>0.004705</td>\n",
              "      <td>-1.000000</td>\n",
              "      <td>0.012563</td>\n",
              "      <td>-0.015005</td>\n",
              "      <td>0.009170</td>\n",
              "      <td>0.010938</td>\n",
              "      <td>0.040160</td>\n",
              "      <td>0.073658</td>\n",
              "      <td>0.001550</td>\n",
              "      <td>1.000000</td>\n",
              "      <td>0.033102</td>\n",
              "      <td>0.540556</td>\n",
              "    </tr>\n",
              "    <tr>\n",
              "      <th>property_Index</th>\n",
              "      <td>0.017321</td>\n",
              "      <td>0.019087</td>\n",
              "      <td>0.028995</td>\n",
              "      <td>-0.016086</td>\n",
              "      <td>-0.033102</td>\n",
              "      <td>0.025032</td>\n",
              "      <td>0.005380</td>\n",
              "      <td>-0.109521</td>\n",
              "      <td>0.007281</td>\n",
              "      <td>-0.001601</td>\n",
              "      <td>0.066740</td>\n",
              "      <td>0.007124</td>\n",
              "      <td>0.033102</td>\n",
              "      <td>1.000000</td>\n",
              "      <td>0.137545</td>\n",
              "    </tr>\n",
              "    <tr>\n",
              "      <th>loanstatus_Index</th>\n",
              "      <td>0.004710</td>\n",
              "      <td>0.059187</td>\n",
              "      <td>0.036345</td>\n",
              "      <td>0.022549</td>\n",
              "      <td>-0.540556</td>\n",
              "      <td>0.031271</td>\n",
              "      <td>0.013595</td>\n",
              "      <td>0.017987</td>\n",
              "      <td>0.091478</td>\n",
              "      <td>-0.010118</td>\n",
              "      <td>0.085884</td>\n",
              "      <td>0.003700</td>\n",
              "      <td>0.540556</td>\n",
              "      <td>0.137545</td>\n",
              "      <td>1.000000</td>\n",
              "    </tr>\n",
              "  </tbody>\n",
              "</table>\n",
              "</div>\n",
              "      <button class=\"colab-df-convert\" onclick=\"convertToInteractive('df-bfd760eb-34b3-40be-94b8-ede5a7d54db3')\"\n",
              "              title=\"Convert this dataframe to an interactive table.\"\n",
              "              style=\"display:none;\">\n",
              "        \n",
              "  <svg xmlns=\"http://www.w3.org/2000/svg\" height=\"24px\"viewBox=\"0 0 24 24\"\n",
              "       width=\"24px\">\n",
              "    <path d=\"M0 0h24v24H0V0z\" fill=\"none\"/>\n",
              "    <path d=\"M18.56 5.44l.94 2.06.94-2.06 2.06-.94-2.06-.94-.94-2.06-.94 2.06-2.06.94zm-11 1L8.5 8.5l.94-2.06 2.06-.94-2.06-.94L8.5 2.5l-.94 2.06-2.06.94zm10 10l.94 2.06.94-2.06 2.06-.94-2.06-.94-.94-2.06-.94 2.06-2.06.94z\"/><path d=\"M17.41 7.96l-1.37-1.37c-.4-.4-.92-.59-1.43-.59-.52 0-1.04.2-1.43.59L10.3 9.45l-7.72 7.72c-.78.78-.78 2.05 0 2.83L4 21.41c.39.39.9.59 1.41.59.51 0 1.02-.2 1.41-.59l7.78-7.78 2.81-2.81c.8-.78.8-2.07 0-2.86zM5.41 20L4 18.59l7.72-7.72 1.47 1.35L5.41 20z\"/>\n",
              "  </svg>\n",
              "      </button>\n",
              "      \n",
              "  <style>\n",
              "    .colab-df-container {\n",
              "      display:flex;\n",
              "      flex-wrap:wrap;\n",
              "      gap: 12px;\n",
              "    }\n",
              "\n",
              "    .colab-df-convert {\n",
              "      background-color: #E8F0FE;\n",
              "      border: none;\n",
              "      border-radius: 50%;\n",
              "      cursor: pointer;\n",
              "      display: none;\n",
              "      fill: #1967D2;\n",
              "      height: 32px;\n",
              "      padding: 0 0 0 0;\n",
              "      width: 32px;\n",
              "    }\n",
              "\n",
              "    .colab-df-convert:hover {\n",
              "      background-color: #E2EBFA;\n",
              "      box-shadow: 0px 1px 2px rgba(60, 64, 67, 0.3), 0px 1px 3px 1px rgba(60, 64, 67, 0.15);\n",
              "      fill: #174EA6;\n",
              "    }\n",
              "\n",
              "    [theme=dark] .colab-df-convert {\n",
              "      background-color: #3B4455;\n",
              "      fill: #D2E3FC;\n",
              "    }\n",
              "\n",
              "    [theme=dark] .colab-df-convert:hover {\n",
              "      background-color: #434B5C;\n",
              "      box-shadow: 0px 1px 3px 1px rgba(0, 0, 0, 0.15);\n",
              "      filter: drop-shadow(0px 1px 2px rgba(0, 0, 0, 0.3));\n",
              "      fill: #FFFFFF;\n",
              "    }\n",
              "  </style>\n",
              "\n",
              "      <script>\n",
              "        const buttonEl =\n",
              "          document.querySelector('#df-bfd760eb-34b3-40be-94b8-ede5a7d54db3 button.colab-df-convert');\n",
              "        buttonEl.style.display =\n",
              "          google.colab.kernel.accessAllowed ? 'block' : 'none';\n",
              "\n",
              "        async function convertToInteractive(key) {\n",
              "          const element = document.querySelector('#df-bfd760eb-34b3-40be-94b8-ede5a7d54db3');\n",
              "          const dataTable =\n",
              "            await google.colab.kernel.invokeFunction('convertToInteractive',\n",
              "                                                     [key], {});\n",
              "          if (!dataTable) return;\n",
              "\n",
              "          const docLinkHtml = 'Like what you see? Visit the ' +\n",
              "            '<a target=\"_blank\" href=https://colab.research.google.com/notebooks/data_table.ipynb>data table notebook</a>'\n",
              "            + ' to learn more about interactive tables.';\n",
              "          element.innerHTML = '';\n",
              "          dataTable['output_type'] = 'display_data';\n",
              "          await google.colab.output.renderOutput(dataTable, element);\n",
              "          const docLink = document.createElement('div');\n",
              "          docLink.innerHTML = docLinkHtml;\n",
              "          element.appendChild(docLink);\n",
              "        }\n",
              "      </script>\n",
              "    </div>\n",
              "  </div>\n",
              "  "
            ],
            "text/plain": [
              "                   ApplicantIncome  CoapplicantIncome  LoanAmount  \\\n",
              "ApplicantIncome           1.000000          -0.116605    0.565621   \n",
              "CoapplicantIncome        -0.116605           1.000000    0.187863   \n",
              "LoanAmount                0.565621           0.187863    1.000000   \n",
              "Loan_Amount_Term         -0.046531          -0.059383    0.036486   \n",
              "Credit_History           -0.018615           0.011134   -0.001412   \n",
              "TotalIncome               0.893037           0.342781    0.620118   \n",
              "EMI                       0.320525           0.135695    0.491286   \n",
              "gender_Index             -0.058809          -0.082912   -0.107909   \n",
              "married_Index            -0.051708          -0.075948   -0.147131   \n",
              "dependents_Index          0.118202           0.030430    0.163108   \n",
              "education_Index          -0.140760          -0.062290   -0.167041   \n",
              "selfemp_Index             0.127180          -0.016100    0.115259   \n",
              "credit_Index              0.018615          -0.011134    0.001412   \n",
              "property_Index            0.017321           0.019087    0.028995   \n",
              "loanstatus_Index          0.004710           0.059187    0.036345   \n",
              "\n",
              "                   Loan_Amount_Term  Credit_History  TotalIncome       EMI  \\\n",
              "ApplicantIncome           -0.046531       -0.018615     0.893037  0.320525   \n",
              "CoapplicantIncome         -0.059383        0.011134     0.342781  0.135695   \n",
              "LoanAmount                 0.036486       -0.001412     0.620118  0.491286   \n",
              "Loan_Amount_Term           1.000000       -0.004705    -0.070917 -0.501359   \n",
              "Credit_History            -0.004705        1.000000    -0.012563  0.015005   \n",
              "TotalIncome               -0.070917       -0.012563     1.000000  0.364654   \n",
              "EMI                       -0.501359        0.015005     0.364654  1.000000   \n",
              "gender_Index               0.074030       -0.009170    -0.093191 -0.060169   \n",
              "married_Index              0.100912       -0.010938    -0.083319 -0.094347   \n",
              "dependents_Index          -0.103864       -0.040160     0.125590  0.103414   \n",
              "education_Index           -0.073928       -0.073658    -0.161362 -0.075777   \n",
              "selfemp_Index             -0.033739       -0.001550     0.113000  0.051647   \n",
              "credit_Index               0.004705       -1.000000     0.012563 -0.015005   \n",
              "property_Index            -0.016086       -0.033102     0.025032  0.005380   \n",
              "loanstatus_Index           0.022549       -0.540556     0.031271  0.013595   \n",
              "\n",
              "                   gender_Index  married_Index  dependents_Index  \\\n",
              "ApplicantIncome       -0.058809      -0.051708          0.118202   \n",
              "CoapplicantIncome     -0.082912      -0.075948          0.030430   \n",
              "LoanAmount            -0.107909      -0.147131          0.163108   \n",
              "Loan_Amount_Term       0.074030       0.100912         -0.103864   \n",
              "Credit_History        -0.009170      -0.010938         -0.040160   \n",
              "TotalIncome           -0.093191      -0.083319          0.125590   \n",
              "EMI                   -0.060169      -0.094347          0.103414   \n",
              "gender_Index           1.000000       0.364569         -0.172914   \n",
              "married_Index          0.364569       1.000000         -0.334216   \n",
              "dependents_Index      -0.172914      -0.334216          1.000000   \n",
              "education_Index       -0.045364      -0.012304          0.055752   \n",
              "selfemp_Index          0.000525      -0.004489          0.056798   \n",
              "credit_Index           0.009170       0.010938          0.040160   \n",
              "property_Index        -0.109521       0.007281         -0.001601   \n",
              "loanstatus_Index       0.017987       0.091478         -0.010118   \n",
              "\n",
              "                   education_Index  selfemp_Index  credit_Index  \\\n",
              "ApplicantIncome          -0.140760       0.127180      0.018615   \n",
              "CoapplicantIncome        -0.062290      -0.016100     -0.011134   \n",
              "LoanAmount               -0.167041       0.115259      0.001412   \n",
              "Loan_Amount_Term         -0.073928      -0.033739      0.004705   \n",
              "Credit_History           -0.073658      -0.001550     -1.000000   \n",
              "TotalIncome              -0.161362       0.113000      0.012563   \n",
              "EMI                      -0.075777       0.051647     -0.015005   \n",
              "gender_Index             -0.045364       0.000525      0.009170   \n",
              "married_Index            -0.012304      -0.004489      0.010938   \n",
              "dependents_Index          0.055752       0.056798      0.040160   \n",
              "education_Index           1.000000      -0.010383      0.073658   \n",
              "selfemp_Index            -0.010383       1.000000      0.001550   \n",
              "credit_Index              0.073658       0.001550      1.000000   \n",
              "property_Index            0.066740       0.007124      0.033102   \n",
              "loanstatus_Index          0.085884       0.003700      0.540556   \n",
              "\n",
              "                   property_Index  loanstatus_Index  \n",
              "ApplicantIncome          0.017321          0.004710  \n",
              "CoapplicantIncome        0.019087          0.059187  \n",
              "LoanAmount               0.028995          0.036345  \n",
              "Loan_Amount_Term        -0.016086          0.022549  \n",
              "Credit_History          -0.033102         -0.540556  \n",
              "TotalIncome              0.025032          0.031271  \n",
              "EMI                      0.005380          0.013595  \n",
              "gender_Index            -0.109521          0.017987  \n",
              "married_Index            0.007281          0.091478  \n",
              "dependents_Index        -0.001601         -0.010118  \n",
              "education_Index          0.066740          0.085884  \n",
              "selfemp_Index            0.007124          0.003700  \n",
              "credit_Index             0.033102          0.540556  \n",
              "property_Index           1.000000          0.137545  \n",
              "loanstatus_Index         0.137545          1.000000  "
            ]
          },
          "metadata": {},
          "execution_count": 44
        }
      ]
    },
    {
      "cell_type": "markdown",
      "source": [
        "Using Vector assembler to merge multiple column into a vector column and taken output as a single feature column.Inputs are given for all the neccesary columns.\n",
        "\n",
        "Reference : https://spark.apache.org/docs/3.1.1/api/python/reference/api/pyspark.ml.feature.VectorAssembler.html"
      ],
      "metadata": {
        "id": "dGH3kfus6Cm2"
      }
    },
    {
      "cell_type": "code",
      "source": [
        "from pyspark.ml.feature import VectorAssembler\n",
        "assembler = VectorAssembler(inputCols=['gender_Index','married_Index','dependents_Index',\n",
        "                                       'education_Index','selfemp_Index','ApplicantIncome',\n",
        "                                       'CoapplicantIncome','EMI','LoanAmount','Loan_Amount_Term',\n",
        "                                       'credit_Index','property_Index','gender_OHE',\n",
        "                                       'married_OHE','dependents_OHE','education_OHE',\n",
        "                                       'selfemp_OHE','credit_OHE','property_OHE'],\n",
        "                           outputCol='features')\n",
        "df2 = assembler.transform(df)"
      ],
      "metadata": {
        "id": "BKpF13_QlMKj"
      },
      "execution_count": 45,
      "outputs": []
    },
    {
      "cell_type": "markdown",
      "source": [
        "Showing the tranformed vector as features column with the loan status index column."
      ],
      "metadata": {
        "id": "fzbFw74Q6wx3"
      }
    },
    {
      "cell_type": "code",
      "source": [
        "df2.select('features','loanstatus_Index').show(5)"
      ],
      "metadata": {
        "id": "v9FxYM3NlWf7",
        "colab": {
          "base_uri": "https://localhost:8080/"
        },
        "outputId": "62c4532a-9d4a-4f58-8917-ffdf4c7d4a22"
      },
      "execution_count": 46,
      "outputs": [
        {
          "output_type": "stream",
          "name": "stdout",
          "text": [
            "+--------------------+----------------+\n",
            "|            features|loanstatus_Index|\n",
            "+--------------------+----------------+\n",
            "|(22,[1,5,7,8,9,11...|             0.0|\n",
            "|(22,[2,5,6,7,8,9,...|             1.0|\n",
            "|(22,[4,5,7,8,9,11...|             0.0|\n",
            "|(22,[3,5,6,7,8,9,...|             0.0|\n",
            "|(22,[1,5,7,8,9,11...|             0.0|\n",
            "+--------------------+----------------+\n",
            "only showing top 5 rows\n",
            "\n"
          ]
        }
      ]
    },
    {
      "cell_type": "code",
      "source": [
        "df2.select('features','loanstatus_OHE').show(5)"
      ],
      "metadata": {
        "id": "CH63viQOlZAW",
        "colab": {
          "base_uri": "https://localhost:8080/"
        },
        "outputId": "2ded946b-23d7-431f-c640-6b634988545c"
      },
      "execution_count": 47,
      "outputs": [
        {
          "output_type": "stream",
          "name": "stdout",
          "text": [
            "+--------------------+--------------+\n",
            "|            features|loanstatus_OHE|\n",
            "+--------------------+--------------+\n",
            "|(22,[1,5,7,8,9,11...| (1,[0],[1.0])|\n",
            "|(22,[2,5,6,7,8,9,...|     (1,[],[])|\n",
            "|(22,[4,5,7,8,9,11...| (1,[0],[1.0])|\n",
            "|(22,[3,5,6,7,8,9,...| (1,[0],[1.0])|\n",
            "|(22,[1,5,7,8,9,11...| (1,[0],[1.0])|\n",
            "+--------------------+--------------+\n",
            "only showing top 5 rows\n",
            "\n"
          ]
        }
      ]
    },
    {
      "cell_type": "markdown",
      "source": [
        "Renaming the loan status index column as label column."
      ],
      "metadata": {
        "id": "zhgY_1UT7crV"
      }
    },
    {
      "cell_type": "code",
      "source": [
        "model_df = df2.select(['features','loanstatus_Index'])\n",
        "model_df = model_df.withColumnRenamed('loanstatus_Index','label')\n",
        "model_df.printSchema()"
      ],
      "metadata": {
        "id": "Y0Iub5nyleyn",
        "colab": {
          "base_uri": "https://localhost:8080/"
        },
        "outputId": "ce4f5aa0-cd15-49aa-f9ae-1ea6866602f5"
      },
      "execution_count": 48,
      "outputs": [
        {
          "output_type": "stream",
          "name": "stdout",
          "text": [
            "root\n",
            " |-- features: vector (nullable = true)\n",
            " |-- label: double (nullable = false)\n",
            "\n"
          ]
        }
      ]
    },
    {
      "cell_type": "markdown",
      "source": [
        "Splitting the data into training dataset and test dataset to perform Maachine learning model building and verifying it.Choose random state 20.\n",
        "\n",
        "Reference: https://towardsdatascience.com/machine-learning-with-pyspark-and-mllib-solving-a-binary-classification-problem-96396065d2aa"
      ],
      "metadata": {
        "id": "B37ynA5a8W_L"
      }
    },
    {
      "cell_type": "code",
      "source": [
        "(train_data, test_data) = model_df.randomSplit([0.7, 0.3], 20) # random state - 20\n",
        "\n",
        "print(\"Records for training: \" + str(train_data.count()))\n",
        "print(\"Records for evaluation: \" + str(test_data.count()))"
      ],
      "metadata": {
        "id": "Nyw40u__lw-X",
        "colab": {
          "base_uri": "https://localhost:8080/"
        },
        "outputId": "1c322ae3-a678-4a95-84d4-a719112e38ef"
      },
      "execution_count": 49,
      "outputs": [
        {
          "output_type": "stream",
          "name": "stdout",
          "text": [
            "Records for training: 432\n",
            "Records for evaluation: 182\n"
          ]
        }
      ]
    },
    {
      "cell_type": "markdown",
      "source": [
        "#Naive Bayes"
      ],
      "metadata": {
        "id": "TwSoqDp1a9RU"
      }
    },
    {
      "cell_type": "markdown",
      "source": [
        "Naive Bayes classification is simply based on probabilistic classification with the assumption of independence between the feature variables.It is a conditional probability model.\n",
        "\n",
        "For implementing the model from pyspark ml classfication model imported the naive bayes classifier. Created a instance of that with mentioning the feature columns , label columns and model type.Fit the model into the train data and performed prediction with test data.\n",
        "\n",
        "For evaluation of the performance of the model from pyspark ml evaluation imported the  Binary Classification Evaluator and measured the AUC(Area under the curve).\n",
        "\n",
        "Reference : https://medium.com/geekculture/naive-bayes-classifier-with-spark-561ff322d8"
      ],
      "metadata": {
        "id": "k9r_iR_U9Di5"
      }
    },
    {
      "cell_type": "code",
      "source": [
        "from pyspark.ml.classification import NaiveBayes\n",
        "\n",
        "nb = NaiveBayes(featuresCol = 'features', \n",
        "                            labelCol = 'label',modelType='multinomial')\n",
        "nbModel = nb.fit(train_data)\n",
        "predictions = nbModel.transform(test_data)\n",
        "predictions.show(10)"
      ],
      "metadata": {
        "id": "xuG_vmOya8PB",
        "colab": {
          "base_uri": "https://localhost:8080/"
        },
        "outputId": "353eed71-c188-4dee-92d4-b348871dc878"
      },
      "execution_count": 50,
      "outputs": [
        {
          "output_type": "stream",
          "name": "stdout",
          "text": [
            "+--------------------+-----+--------------------+--------------------+----------+\n",
            "|            features|label|       rawPrediction|         probability|prediction|\n",
            "+--------------------+-----+--------------------+--------------------+----------+\n",
            "|(22,[0,1,2,3,5,7,...|  1.0|[-2862.0256478600...|[1.0,2.2940272603...|       0.0|\n",
            "|(22,[0,1,2,5,7,8,...|  1.0|[-2749.6537598875...|[1.0,1.0647420900...|       0.0|\n",
            "|(22,[0,1,2,5,7,8,...|  1.0|[-2886.7763942280...|[1.0,4.9258940609...|       0.0|\n",
            "|(22,[0,1,3,4,5,7,...|  0.0|[-7017.2782940283...|           [1.0,0.0]|       0.0|\n",
            "|(22,[0,1,3,5,7,8,...|  0.0|[-2081.8085985339...|[1.0,1.2764559524...|       0.0|\n",
            "|(22,[0,1,3,5,7,8,...|  0.0|[-2939.8180470506...|[1.0,8.3413257530...|       0.0|\n",
            "|(22,[0,1,4,5,7,8,...|  0.0|[-2679.3679550083...|[1.0,2.5469213055...|       0.0|\n",
            "|(22,[0,1,5,6,7,8,...|  0.0|[-4716.2677853899...|[2.95096840479742...|       1.0|\n",
            "|(22,[0,1,5,6,7,8,...|  0.0|[-5018.2315279663...|[1.76912468006447...|       1.0|\n",
            "|(22,[0,1,5,7,8,9,...|  1.0|[-2395.7246968486...|[1.0,4.7304920413...|       0.0|\n",
            "+--------------------+-----+--------------------+--------------------+----------+\n",
            "only showing top 10 rows\n",
            "\n"
          ]
        }
      ]
    },
    {
      "cell_type": "code",
      "source": [
        "from pyspark.ml.evaluation import BinaryClassificationEvaluator\n",
        "\n",
        "evaluator = BinaryClassificationEvaluator()\n",
        "print(\"Naive Bayes - Test set AUC: \" + str(evaluator.evaluate\n",
        "                                        (predictions,\n",
        "                                         {evaluator.metricName: \"areaUnderROC\"})))"
      ],
      "metadata": {
        "id": "WaDEf0zXeB_E",
        "colab": {
          "base_uri": "https://localhost:8080/"
        },
        "outputId": "e1f21f63-24d1-47bb-d38b-cffbc9852604"
      },
      "execution_count": 51,
      "outputs": [
        {
          "output_type": "stream",
          "name": "stdout",
          "text": [
            "Naive Bayes - Test set AUC: 0.5232202447163516\n"
          ]
        }
      ]
    },
    {
      "cell_type": "markdown",
      "source": [
        "#Decision Tree Model"
      ],
      "metadata": {
        "id": "i7RpOvnFnffO"
      }
    },
    {
      "cell_type": "markdown",
      "source": [
        "Decision Tree is a Supervised learning technique that can be used for both classification and Regression problems, but mostly it is preferred for solving Classification problems. It is a tree-structured classifier, where internal nodes represent the features of a dataset, branches represent the decision rules and each leaf node represents the outcome.\n",
        "\n",
        "For implementing the model from pyspark ml classfication model imported the Decision Tree classifier. Created a instance of that with mentioning the feature columns , label columns and model type.Fit the model into the train data and performed prediction with test data.\n",
        "\n",
        "For evaluation of the performance of the model from pyspark ml evaluation imported the  Binary Classification Evaluator and measured the AUC(Area under the curve).\n",
        "\n",
        "Reference : https://towardsdatascience.com/machine-learning-with-pyspark-and-mllib-solving-a-binary-classification-problem-96396065d2aa"
      ],
      "metadata": {
        "id": "ykPymZJ1_TM7"
      }
    },
    {
      "cell_type": "code",
      "source": [
        "from pyspark.ml.classification import DecisionTreeClassifier\n",
        "\n",
        "dt = DecisionTreeClassifier(featuresCol = 'features', \n",
        "                            labelCol = 'label', maxDepth = 3)\n",
        "dtModel = dt.fit(train_data)\n",
        "predictions = dtModel.transform(test_data)\n",
        "predictions.show(10)"
      ],
      "metadata": {
        "id": "HQ8TvviXlzmq",
        "colab": {
          "base_uri": "https://localhost:8080/"
        },
        "outputId": "91d34821-bee1-4098-8b80-32bc855c4388"
      },
      "execution_count": 52,
      "outputs": [
        {
          "output_type": "stream",
          "name": "stdout",
          "text": [
            "+--------------------+-----+-------------+--------------------+----------+\n",
            "|            features|label|rawPrediction|         probability|prediction|\n",
            "+--------------------+-----+-------------+--------------------+----------+\n",
            "|(22,[0,1,2,3,5,7,...|  1.0| [287.0,72.0]|[0.79944289693593...|       0.0|\n",
            "|(22,[0,1,2,5,7,8,...|  1.0| [287.0,72.0]|[0.79944289693593...|       0.0|\n",
            "|(22,[0,1,2,5,7,8,...|  1.0| [287.0,72.0]|[0.79944289693593...|       0.0|\n",
            "|(22,[0,1,3,4,5,7,...|  0.0| [287.0,72.0]|[0.79944289693593...|       0.0|\n",
            "|(22,[0,1,3,5,7,8,...|  0.0| [287.0,72.0]|[0.79944289693593...|       0.0|\n",
            "|(22,[0,1,3,5,7,8,...|  0.0| [287.0,72.0]|[0.79944289693593...|       0.0|\n",
            "|(22,[0,1,4,5,7,8,...|  0.0| [287.0,72.0]|[0.79944289693593...|       0.0|\n",
            "|(22,[0,1,5,6,7,8,...|  0.0| [287.0,72.0]|[0.79944289693593...|       0.0|\n",
            "|(22,[0,1,5,6,7,8,...|  0.0| [287.0,72.0]|[0.79944289693593...|       0.0|\n",
            "|(22,[0,1,5,7,8,9,...|  1.0|   [6.0,56.0]|[0.09677419354838...|       1.0|\n",
            "+--------------------+-----+-------------+--------------------+----------+\n",
            "only showing top 10 rows\n",
            "\n"
          ]
        }
      ]
    },
    {
      "cell_type": "code",
      "source": [
        "from pyspark.ml.evaluation import BinaryClassificationEvaluator\n",
        "\n",
        "evaluator = BinaryClassificationEvaluator()\n",
        "print(\"Decision Tree - Test set AUC: \" + str(evaluator.evaluate\n",
        "                                        (predictions,\n",
        "                                         {evaluator.metricName: \"areaUnderROC\"})))"
      ],
      "metadata": {
        "id": "zlKLan4KnpnP",
        "colab": {
          "base_uri": "https://localhost:8080/"
        },
        "outputId": "39bcc267-0df1-4f7b-abbe-df6acd0c7132"
      },
      "execution_count": 53,
      "outputs": [
        {
          "output_type": "stream",
          "name": "stdout",
          "text": [
            "Decision Tree - Test set AUC: 0.3090934371523915\n"
          ]
        }
      ]
    },
    {
      "cell_type": "markdown",
      "source": [
        "#Random Forest"
      ],
      "metadata": {
        "id": "xxFLCzGCnuHt"
      }
    },
    {
      "cell_type": "markdown",
      "source": [
        "Random Forest is a popular machine learning algorithm that belongs to the supervised learning technique. It can be used for both Classification and Regression problems in ML. It is based on the concept of ensemble learning, which is a process of combining multiple classifiers to solve a complex problem and to improve the performance of the model.\n",
        "\n",
        "For implementing the model from pyspark ml classfication model imported the Random Forest classifier. Created a instance of that with mentioning the feature columns , label columns and model type.Fit the model into the train data and performed prediction with test data.\n",
        "\n",
        "For evaluation of the performance of the model from pyspark ml evaluation imported the Binary Classification Evaluator and measured the AUC(Area under the curve).\n",
        "\n",
        "Reference : https://towardsdatascience.com/machine-learning-with-pyspark-and-mllib-solving-a-binary-classification-problem-96396065d2aa"
      ],
      "metadata": {
        "id": "ilduYwRl_onG"
      }
    },
    {
      "cell_type": "code",
      "source": [
        "from pyspark.ml.classification import RandomForestClassifier\n",
        "\n",
        "rf = RandomForestClassifier(featuresCol = 'features', labelCol = 'label')\n",
        "rfModel = rf.fit(train_data)\n",
        "predictions = rfModel.transform(test_data)\n",
        "predictions.show(10)"
      ],
      "metadata": {
        "id": "vJ6gzCnYnsO_",
        "colab": {
          "base_uri": "https://localhost:8080/"
        },
        "outputId": "e1cc27d1-303d-486a-9941-810971fb7107"
      },
      "execution_count": 54,
      "outputs": [
        {
          "output_type": "stream",
          "name": "stdout",
          "text": [
            "+--------------------+-----+--------------------+--------------------+----------+\n",
            "|            features|label|       rawPrediction|         probability|prediction|\n",
            "+--------------------+-----+--------------------+--------------------+----------+\n",
            "|(22,[0,1,2,3,5,7,...|  1.0|[15.2022381049376...|[0.76011190524688...|       0.0|\n",
            "|(22,[0,1,2,5,7,8,...|  1.0|[15.5211954150533...|[0.77605977075266...|       0.0|\n",
            "|(22,[0,1,2,5,7,8,...|  1.0|[17.0180388144164...|[0.85090194072082...|       0.0|\n",
            "|(22,[0,1,3,4,5,7,...|  0.0|[16.0389948622396...|[0.80194974311198...|       0.0|\n",
            "|(22,[0,1,3,5,7,8,...|  0.0|[14.9811865576138...|[0.74905932788069...|       0.0|\n",
            "|(22,[0,1,3,5,7,8,...|  0.0|[16.5592377067984...|[0.82796188533992...|       0.0|\n",
            "|(22,[0,1,4,5,7,8,...|  0.0|[15.8371635155710...|[0.79185817577855...|       0.0|\n",
            "|(22,[0,1,5,6,7,8,...|  0.0|[14.6383539600041...|[0.73191769800020...|       0.0|\n",
            "|(22,[0,1,5,6,7,8,...|  0.0|[15.5542018678766...|[0.77771009339383...|       0.0|\n",
            "|(22,[0,1,5,7,8,9,...|  1.0|[3.04990549351583...|[0.15249527467579...|       1.0|\n",
            "+--------------------+-----+--------------------+--------------------+----------+\n",
            "only showing top 10 rows\n",
            "\n"
          ]
        }
      ]
    },
    {
      "cell_type": "code",
      "source": [
        "from pyspark.ml.evaluation import BinaryClassificationEvaluator\n",
        "\n",
        "evaluator = BinaryClassificationEvaluator()\n",
        "print(\"Random Forest - Test set AUC: \" + str(evaluator.evaluate\n",
        "                                        (predictions, \n",
        "                                         {evaluator.metricName: \"areaUnderROC\"})))"
      ],
      "metadata": {
        "id": "FLytD248nzT2",
        "colab": {
          "base_uri": "https://localhost:8080/"
        },
        "outputId": "70cb71c4-d59a-4c6e-e843-47cbe1e8d159"
      },
      "execution_count": 55,
      "outputs": [
        {
          "output_type": "stream",
          "name": "stdout",
          "text": [
            "Random Forest - Test set AUC: 0.7577864293659624\n"
          ]
        }
      ]
    },
    {
      "cell_type": "markdown",
      "source": [
        "#Gradient Boost Classifier"
      ],
      "metadata": {
        "id": "FqfxnYlCW9Gx"
      }
    },
    {
      "cell_type": "markdown",
      "source": [
        "Gradient boosting algorithm is one of the most powerful algorithms in the field of machine learning. As we know that the errors in machine learning algorithms are broadly classified into two categories i.e. Bias Error and Variance Error. As gradient boosting is one of the boosting algorithms it is used to minimize bias error of the model.\n",
        "\n",
        "For implementing the model from pyspark ml classfication model imported the Random Forest classifier. Created a instance of that with mentioning the feature columns , label columns and model type.Fit the model into the train data and performed prediction with test data.\n",
        "\n",
        "For evaluation of the performance of the model from pyspark ml evaluation imported the Binary Classification Evaluator and measured the AUC(Area under the curve)."
      ],
      "metadata": {
        "id": "oXd2HX_DWp9Y"
      }
    },
    {
      "cell_type": "code",
      "source": [
        "from pyspark.ml.classification import GBTClassifier\n",
        "gbm = GBTClassifier(featuresCol='features', labelCol='label')\n",
        "gbm_model = gbm.fit(train_data)\n",
        "predictions = gbm_model.transform(test_data)\n",
        "predictions.show(10)"
      ],
      "metadata": {
        "id": "uIZh6a8jO5MH",
        "colab": {
          "base_uri": "https://localhost:8080/"
        },
        "outputId": "6f9c1295-ef30-4c22-b946-eaa26d0e0ea0"
      },
      "execution_count": 56,
      "outputs": [
        {
          "output_type": "stream",
          "name": "stdout",
          "text": [
            "+--------------------+-----+--------------------+--------------------+----------+\n",
            "|            features|label|       rawPrediction|         probability|prediction|\n",
            "+--------------------+-----+--------------------+--------------------+----------+\n",
            "|(22,[0,1,2,3,5,7,...|  1.0|[0.07796957572121...|[0.53890598000683...|       0.0|\n",
            "|(22,[0,1,2,5,7,8,...|  1.0|[0.71262844996282...|[0.80616120988108...|       0.0|\n",
            "|(22,[0,1,2,5,7,8,...|  1.0|[0.73006972095076...|[0.81155400113496...|       0.0|\n",
            "|(22,[0,1,3,4,5,7,...|  0.0|[0.83564067112004...|[0.84174658257578...|       0.0|\n",
            "|(22,[0,1,3,5,7,8,...|  0.0|[1.06491833399942...|[0.89376950167066...|       0.0|\n",
            "|(22,[0,1,3,5,7,8,...|  0.0|[0.77588183756646...|[0.82516831536389...|       0.0|\n",
            "|(22,[0,1,4,5,7,8,...|  0.0|[0.41620601645343...|[0.69686469981676...|       0.0|\n",
            "|(22,[0,1,5,6,7,8,...|  0.0|[1.08009944989005...|[0.89661798684676...|       0.0|\n",
            "|(22,[0,1,5,6,7,8,...|  0.0|[0.79580054414847...|[0.83084124574319...|       0.0|\n",
            "|(22,[0,1,5,7,8,9,...|  1.0|[-1.5363277580638...|[0.04424938613636...|       1.0|\n",
            "+--------------------+-----+--------------------+--------------------+----------+\n",
            "only showing top 10 rows\n",
            "\n"
          ]
        }
      ]
    },
    {
      "cell_type": "code",
      "source": [
        "from pyspark.ml.evaluation import BinaryClassificationEvaluator\n",
        "\n",
        "evaluator = BinaryClassificationEvaluator()\n",
        "print(\"Gradient Boost - Test set AUC: \" + str(evaluator.evaluate\n",
        "                                        (predictions, \n",
        "                                         {evaluator.metricName: \"areaUnderROC\"})))"
      ],
      "metadata": {
        "id": "6EbODt1iQH7o",
        "colab": {
          "base_uri": "https://localhost:8080/"
        },
        "outputId": "42f0fbbc-c132-4a82-f5d3-9679034b30fd"
      },
      "execution_count": 57,
      "outputs": [
        {
          "output_type": "stream",
          "name": "stdout",
          "text": [
            "Gradient Boost - Test set AUC: 0.7134315906562851\n"
          ]
        }
      ]
    },
    {
      "cell_type": "markdown",
      "source": [
        "Among the four models Random Forest performs best. So, will use Random Forest for model building."
      ],
      "metadata": {
        "id": "dAMYbG9IBTis"
      }
    }
  ]
}